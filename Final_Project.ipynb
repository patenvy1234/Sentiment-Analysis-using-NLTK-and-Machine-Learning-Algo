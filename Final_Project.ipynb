{
  "cells": [
    {
      "cell_type": "code",
      "execution_count": 7,
      "metadata": {
        "id": "9b5af753"
      },
      "outputs": [],
      "source": [
        "import pandas as pd\n",
        "import numpy as np\n",
        "import matplotlib.pyplot as plt\n",
        "import seaborn as sns\n",
        "%matplotlib inline"
      ],
      "id": "9b5af753"
    },
    {
      "cell_type": "code",
      "execution_count": 8,
      "metadata": {
        "colab": {
          "base_uri": "https://localhost:8080/",
          "height": 333
        },
        "id": "0d0bca38",
        "outputId": "e8ce566b-45ca-4008-bb08-c2f04e2705be"
      },
      "outputs": [
        {
          "output_type": "execute_result",
          "data": {
            "text/plain": [
              "                                          tweet_text  \\\n",
              "0  .@wesley83 I have a 3G iPhone. After 3 hrs twe...   \n",
              "1  @jessedee Know about @fludapp ? Awesome iPad/i...   \n",
              "2  @swonderlin Can not wait for #iPad 2 also. The...   \n",
              "3  @sxsw I hope this year's festival isn't as cra...   \n",
              "4  @sxtxstate great stuff on Fri #SXSW: Marissa M...   \n",
              "\n",
              "  emotion_in_tweet_is_directed_at  \\\n",
              "0                          iPhone   \n",
              "1              iPad or iPhone App   \n",
              "2                            iPad   \n",
              "3              iPad or iPhone App   \n",
              "4                          Google   \n",
              "\n",
              "  is_there_an_emotion_directed_at_a_brand_or_product  \n",
              "0                                   Negative emotion  \n",
              "1                                   Positive emotion  \n",
              "2                                   Positive emotion  \n",
              "3                                   Negative emotion  \n",
              "4                                   Positive emotion  "
            ],
            "text/html": [
              "\n",
              "  <div id=\"df-c025fc44-afd9-44a9-a730-d2eea4f18315\">\n",
              "    <div class=\"colab-df-container\">\n",
              "      <div>\n",
              "<style scoped>\n",
              "    .dataframe tbody tr th:only-of-type {\n",
              "        vertical-align: middle;\n",
              "    }\n",
              "\n",
              "    .dataframe tbody tr th {\n",
              "        vertical-align: top;\n",
              "    }\n",
              "\n",
              "    .dataframe thead th {\n",
              "        text-align: right;\n",
              "    }\n",
              "</style>\n",
              "<table border=\"1\" class=\"dataframe\">\n",
              "  <thead>\n",
              "    <tr style=\"text-align: right;\">\n",
              "      <th></th>\n",
              "      <th>tweet_text</th>\n",
              "      <th>emotion_in_tweet_is_directed_at</th>\n",
              "      <th>is_there_an_emotion_directed_at_a_brand_or_product</th>\n",
              "    </tr>\n",
              "  </thead>\n",
              "  <tbody>\n",
              "    <tr>\n",
              "      <th>0</th>\n",
              "      <td>.@wesley83 I have a 3G iPhone. After 3 hrs twe...</td>\n",
              "      <td>iPhone</td>\n",
              "      <td>Negative emotion</td>\n",
              "    </tr>\n",
              "    <tr>\n",
              "      <th>1</th>\n",
              "      <td>@jessedee Know about @fludapp ? Awesome iPad/i...</td>\n",
              "      <td>iPad or iPhone App</td>\n",
              "      <td>Positive emotion</td>\n",
              "    </tr>\n",
              "    <tr>\n",
              "      <th>2</th>\n",
              "      <td>@swonderlin Can not wait for #iPad 2 also. The...</td>\n",
              "      <td>iPad</td>\n",
              "      <td>Positive emotion</td>\n",
              "    </tr>\n",
              "    <tr>\n",
              "      <th>3</th>\n",
              "      <td>@sxsw I hope this year's festival isn't as cra...</td>\n",
              "      <td>iPad or iPhone App</td>\n",
              "      <td>Negative emotion</td>\n",
              "    </tr>\n",
              "    <tr>\n",
              "      <th>4</th>\n",
              "      <td>@sxtxstate great stuff on Fri #SXSW: Marissa M...</td>\n",
              "      <td>Google</td>\n",
              "      <td>Positive emotion</td>\n",
              "    </tr>\n",
              "  </tbody>\n",
              "</table>\n",
              "</div>\n",
              "      <button class=\"colab-df-convert\" onclick=\"convertToInteractive('df-c025fc44-afd9-44a9-a730-d2eea4f18315')\"\n",
              "              title=\"Convert this dataframe to an interactive table.\"\n",
              "              style=\"display:none;\">\n",
              "        \n",
              "  <svg xmlns=\"http://www.w3.org/2000/svg\" height=\"24px\"viewBox=\"0 0 24 24\"\n",
              "       width=\"24px\">\n",
              "    <path d=\"M0 0h24v24H0V0z\" fill=\"none\"/>\n",
              "    <path d=\"M18.56 5.44l.94 2.06.94-2.06 2.06-.94-2.06-.94-.94-2.06-.94 2.06-2.06.94zm-11 1L8.5 8.5l.94-2.06 2.06-.94-2.06-.94L8.5 2.5l-.94 2.06-2.06.94zm10 10l.94 2.06.94-2.06 2.06-.94-2.06-.94-.94-2.06-.94 2.06-2.06.94z\"/><path d=\"M17.41 7.96l-1.37-1.37c-.4-.4-.92-.59-1.43-.59-.52 0-1.04.2-1.43.59L10.3 9.45l-7.72 7.72c-.78.78-.78 2.05 0 2.83L4 21.41c.39.39.9.59 1.41.59.51 0 1.02-.2 1.41-.59l7.78-7.78 2.81-2.81c.8-.78.8-2.07 0-2.86zM5.41 20L4 18.59l7.72-7.72 1.47 1.35L5.41 20z\"/>\n",
              "  </svg>\n",
              "      </button>\n",
              "      \n",
              "  <style>\n",
              "    .colab-df-container {\n",
              "      display:flex;\n",
              "      flex-wrap:wrap;\n",
              "      gap: 12px;\n",
              "    }\n",
              "\n",
              "    .colab-df-convert {\n",
              "      background-color: #E8F0FE;\n",
              "      border: none;\n",
              "      border-radius: 50%;\n",
              "      cursor: pointer;\n",
              "      display: none;\n",
              "      fill: #1967D2;\n",
              "      height: 32px;\n",
              "      padding: 0 0 0 0;\n",
              "      width: 32px;\n",
              "    }\n",
              "\n",
              "    .colab-df-convert:hover {\n",
              "      background-color: #E2EBFA;\n",
              "      box-shadow: 0px 1px 2px rgba(60, 64, 67, 0.3), 0px 1px 3px 1px rgba(60, 64, 67, 0.15);\n",
              "      fill: #174EA6;\n",
              "    }\n",
              "\n",
              "    [theme=dark] .colab-df-convert {\n",
              "      background-color: #3B4455;\n",
              "      fill: #D2E3FC;\n",
              "    }\n",
              "\n",
              "    [theme=dark] .colab-df-convert:hover {\n",
              "      background-color: #434B5C;\n",
              "      box-shadow: 0px 1px 3px 1px rgba(0, 0, 0, 0.15);\n",
              "      filter: drop-shadow(0px 1px 2px rgba(0, 0, 0, 0.3));\n",
              "      fill: #FFFFFF;\n",
              "    }\n",
              "  </style>\n",
              "\n",
              "      <script>\n",
              "        const buttonEl =\n",
              "          document.querySelector('#df-c025fc44-afd9-44a9-a730-d2eea4f18315 button.colab-df-convert');\n",
              "        buttonEl.style.display =\n",
              "          google.colab.kernel.accessAllowed ? 'block' : 'none';\n",
              "\n",
              "        async function convertToInteractive(key) {\n",
              "          const element = document.querySelector('#df-c025fc44-afd9-44a9-a730-d2eea4f18315');\n",
              "          const dataTable =\n",
              "            await google.colab.kernel.invokeFunction('convertToInteractive',\n",
              "                                                     [key], {});\n",
              "          if (!dataTable) return;\n",
              "\n",
              "          const docLinkHtml = 'Like what you see? Visit the ' +\n",
              "            '<a target=\"_blank\" href=https://colab.research.google.com/notebooks/data_table.ipynb>data table notebook</a>'\n",
              "            + ' to learn more about interactive tables.';\n",
              "          element.innerHTML = '';\n",
              "          dataTable['output_type'] = 'display_data';\n",
              "          await google.colab.output.renderOutput(dataTable, element);\n",
              "          const docLink = document.createElement('div');\n",
              "          docLink.innerHTML = docLinkHtml;\n",
              "          element.appendChild(docLink);\n",
              "        }\n",
              "      </script>\n",
              "    </div>\n",
              "  </div>\n",
              "  "
            ]
          },
          "metadata": {},
          "execution_count": 8
        }
      ],
      "source": [
        "df=pd.read_csv('product_tweet-emotion_data.csv',encoding='latin1')\n",
        "df.head()"
      ],
      "id": "0d0bca38"
    },
    {
      "cell_type": "code",
      "execution_count": 9,
      "metadata": {
        "colab": {
          "base_uri": "https://localhost:8080/",
          "height": 204
        },
        "id": "19d1742b",
        "outputId": "2b8f9ca2-13e4-4912-e9c9-df66902dff69"
      },
      "outputs": [
        {
          "output_type": "execute_result",
          "data": {
            "text/plain": [
              "                                              review             product  \\\n",
              "0  .@wesley83 I have a 3G iPhone. After 3 hrs twe...              iPhone   \n",
              "1  @jessedee Know about @fludapp ? Awesome iPad/i...  iPad or iPhone App   \n",
              "2  @swonderlin Can not wait for #iPad 2 also. The...                iPad   \n",
              "3  @sxsw I hope this year's festival isn't as cra...  iPad or iPhone App   \n",
              "4  @sxtxstate great stuff on Fri #SXSW: Marissa M...              Google   \n",
              "\n",
              "            emotion  \n",
              "0  Negative emotion  \n",
              "1  Positive emotion  \n",
              "2  Positive emotion  \n",
              "3  Negative emotion  \n",
              "4  Positive emotion  "
            ],
            "text/html": [
              "\n",
              "  <div id=\"df-f34f64ec-71da-4f6e-9dbb-cbe110f90960\">\n",
              "    <div class=\"colab-df-container\">\n",
              "      <div>\n",
              "<style scoped>\n",
              "    .dataframe tbody tr th:only-of-type {\n",
              "        vertical-align: middle;\n",
              "    }\n",
              "\n",
              "    .dataframe tbody tr th {\n",
              "        vertical-align: top;\n",
              "    }\n",
              "\n",
              "    .dataframe thead th {\n",
              "        text-align: right;\n",
              "    }\n",
              "</style>\n",
              "<table border=\"1\" class=\"dataframe\">\n",
              "  <thead>\n",
              "    <tr style=\"text-align: right;\">\n",
              "      <th></th>\n",
              "      <th>review</th>\n",
              "      <th>product</th>\n",
              "      <th>emotion</th>\n",
              "    </tr>\n",
              "  </thead>\n",
              "  <tbody>\n",
              "    <tr>\n",
              "      <th>0</th>\n",
              "      <td>.@wesley83 I have a 3G iPhone. After 3 hrs twe...</td>\n",
              "      <td>iPhone</td>\n",
              "      <td>Negative emotion</td>\n",
              "    </tr>\n",
              "    <tr>\n",
              "      <th>1</th>\n",
              "      <td>@jessedee Know about @fludapp ? Awesome iPad/i...</td>\n",
              "      <td>iPad or iPhone App</td>\n",
              "      <td>Positive emotion</td>\n",
              "    </tr>\n",
              "    <tr>\n",
              "      <th>2</th>\n",
              "      <td>@swonderlin Can not wait for #iPad 2 also. The...</td>\n",
              "      <td>iPad</td>\n",
              "      <td>Positive emotion</td>\n",
              "    </tr>\n",
              "    <tr>\n",
              "      <th>3</th>\n",
              "      <td>@sxsw I hope this year's festival isn't as cra...</td>\n",
              "      <td>iPad or iPhone App</td>\n",
              "      <td>Negative emotion</td>\n",
              "    </tr>\n",
              "    <tr>\n",
              "      <th>4</th>\n",
              "      <td>@sxtxstate great stuff on Fri #SXSW: Marissa M...</td>\n",
              "      <td>Google</td>\n",
              "      <td>Positive emotion</td>\n",
              "    </tr>\n",
              "  </tbody>\n",
              "</table>\n",
              "</div>\n",
              "      <button class=\"colab-df-convert\" onclick=\"convertToInteractive('df-f34f64ec-71da-4f6e-9dbb-cbe110f90960')\"\n",
              "              title=\"Convert this dataframe to an interactive table.\"\n",
              "              style=\"display:none;\">\n",
              "        \n",
              "  <svg xmlns=\"http://www.w3.org/2000/svg\" height=\"24px\"viewBox=\"0 0 24 24\"\n",
              "       width=\"24px\">\n",
              "    <path d=\"M0 0h24v24H0V0z\" fill=\"none\"/>\n",
              "    <path d=\"M18.56 5.44l.94 2.06.94-2.06 2.06-.94-2.06-.94-.94-2.06-.94 2.06-2.06.94zm-11 1L8.5 8.5l.94-2.06 2.06-.94-2.06-.94L8.5 2.5l-.94 2.06-2.06.94zm10 10l.94 2.06.94-2.06 2.06-.94-2.06-.94-.94-2.06-.94 2.06-2.06.94z\"/><path d=\"M17.41 7.96l-1.37-1.37c-.4-.4-.92-.59-1.43-.59-.52 0-1.04.2-1.43.59L10.3 9.45l-7.72 7.72c-.78.78-.78 2.05 0 2.83L4 21.41c.39.39.9.59 1.41.59.51 0 1.02-.2 1.41-.59l7.78-7.78 2.81-2.81c.8-.78.8-2.07 0-2.86zM5.41 20L4 18.59l7.72-7.72 1.47 1.35L5.41 20z\"/>\n",
              "  </svg>\n",
              "      </button>\n",
              "      \n",
              "  <style>\n",
              "    .colab-df-container {\n",
              "      display:flex;\n",
              "      flex-wrap:wrap;\n",
              "      gap: 12px;\n",
              "    }\n",
              "\n",
              "    .colab-df-convert {\n",
              "      background-color: #E8F0FE;\n",
              "      border: none;\n",
              "      border-radius: 50%;\n",
              "      cursor: pointer;\n",
              "      display: none;\n",
              "      fill: #1967D2;\n",
              "      height: 32px;\n",
              "      padding: 0 0 0 0;\n",
              "      width: 32px;\n",
              "    }\n",
              "\n",
              "    .colab-df-convert:hover {\n",
              "      background-color: #E2EBFA;\n",
              "      box-shadow: 0px 1px 2px rgba(60, 64, 67, 0.3), 0px 1px 3px 1px rgba(60, 64, 67, 0.15);\n",
              "      fill: #174EA6;\n",
              "    }\n",
              "\n",
              "    [theme=dark] .colab-df-convert {\n",
              "      background-color: #3B4455;\n",
              "      fill: #D2E3FC;\n",
              "    }\n",
              "\n",
              "    [theme=dark] .colab-df-convert:hover {\n",
              "      background-color: #434B5C;\n",
              "      box-shadow: 0px 1px 3px 1px rgba(0, 0, 0, 0.15);\n",
              "      filter: drop-shadow(0px 1px 2px rgba(0, 0, 0, 0.3));\n",
              "      fill: #FFFFFF;\n",
              "    }\n",
              "  </style>\n",
              "\n",
              "      <script>\n",
              "        const buttonEl =\n",
              "          document.querySelector('#df-f34f64ec-71da-4f6e-9dbb-cbe110f90960 button.colab-df-convert');\n",
              "        buttonEl.style.display =\n",
              "          google.colab.kernel.accessAllowed ? 'block' : 'none';\n",
              "\n",
              "        async function convertToInteractive(key) {\n",
              "          const element = document.querySelector('#df-f34f64ec-71da-4f6e-9dbb-cbe110f90960');\n",
              "          const dataTable =\n",
              "            await google.colab.kernel.invokeFunction('convertToInteractive',\n",
              "                                                     [key], {});\n",
              "          if (!dataTable) return;\n",
              "\n",
              "          const docLinkHtml = 'Like what you see? Visit the ' +\n",
              "            '<a target=\"_blank\" href=https://colab.research.google.com/notebooks/data_table.ipynb>data table notebook</a>'\n",
              "            + ' to learn more about interactive tables.';\n",
              "          element.innerHTML = '';\n",
              "          dataTable['output_type'] = 'display_data';\n",
              "          await google.colab.output.renderOutput(dataTable, element);\n",
              "          const docLink = document.createElement('div');\n",
              "          docLink.innerHTML = docLinkHtml;\n",
              "          element.appendChild(docLink);\n",
              "        }\n",
              "      </script>\n",
              "    </div>\n",
              "  </div>\n",
              "  "
            ]
          },
          "metadata": {},
          "execution_count": 9
        }
      ],
      "source": [
        "df.rename(columns={\"tweet_text\":'review',\"emotion_in_tweet_is_directed_at\":'product',\"is_there_an_emotion_directed_at_a_brand_or_product\":'emotion'},inplace = True)\n",
        "df.head()"
      ],
      "id": "19d1742b"
    },
    {
      "cell_type": "code",
      "execution_count": 10,
      "metadata": {
        "colab": {
          "base_uri": "https://localhost:8080/"
        },
        "id": "c6878ea8",
        "outputId": "502b1ab5-55b5-459a-aaf3-397557236ec9"
      },
      "outputs": [
        {
          "output_type": "stream",
          "name": "stdout",
          "text": [
            "<class 'pandas.core.frame.DataFrame'>\n",
            "RangeIndex: 9093 entries, 0 to 9092\n",
            "Data columns (total 3 columns):\n",
            " #   Column   Non-Null Count  Dtype \n",
            "---  ------   --------------  ----- \n",
            " 0   review   9092 non-null   object\n",
            " 1   product  3291 non-null   object\n",
            " 2   emotion  9093 non-null   object\n",
            "dtypes: object(3)\n",
            "memory usage: 213.2+ KB\n"
          ]
        }
      ],
      "source": [
        "df.info()"
      ],
      "id": "c6878ea8"
    },
    {
      "cell_type": "markdown",
      "metadata": {
        "id": "1fd7e4a7"
      },
      "source": [
        "  <h1><center>Dealing with null values</center></h1>"
      ],
      "id": "1fd7e4a7"
    },
    {
      "cell_type": "code",
      "execution_count": 11,
      "metadata": {
        "colab": {
          "base_uri": "https://localhost:8080/",
          "height": 287
        },
        "id": "37f17eba",
        "outputId": "a3280bfa-d7d9-4961-b759-740493101759"
      },
      "outputs": [
        {
          "output_type": "execute_result",
          "data": {
            "text/plain": [
              "<matplotlib.axes._subplots.AxesSubplot at 0x7f536a591310>"
            ]
          },
          "metadata": {},
          "execution_count": 11
        },
        {
          "output_type": "display_data",
          "data": {
            "text/plain": [
              "<Figure size 432x288 with 1 Axes>"
            ],
            "image/png": "[encoded data removed]"
          },
          "metadata": {
            "needs_background": "light"
          }
        }
      ],
      "source": [
        "sns.heatmap(df.isnull(),cbar=False)"
      ],
      "id": "37f17eba"
    },
    {
      "cell_type": "markdown",
      "metadata": {
        "id": "8582a6c2"
      },
      "source": [
        "**We can see that most of the values in the product column are null values and hence would not provide great insights for the data, so it would be better to drop the column**"
      ],
      "id": "8582a6c2"
    },
    {
      "cell_type": "code",
      "execution_count": 12,
      "metadata": {
        "colab": {
          "base_uri": "https://localhost:8080/",
          "height": 204
        },
        "id": "8a86e9cb",
        "outputId": "33a00b17-a7c3-415f-8186-2af58a3c2636"
      },
      "outputs": [
        {
          "output_type": "execute_result",
          "data": {
            "text/plain": [
              "                                              review           emotion\n",
              "0  .@wesley83 I have a 3G iPhone. After 3 hrs twe...  Negative emotion\n",
              "1  @jessedee Know about @fludapp ? Awesome iPad/i...  Positive emotion\n",
              "2  @swonderlin Can not wait for #iPad 2 also. The...  Positive emotion\n",
              "3  @sxsw I hope this year's festival isn't as cra...  Negative emotion\n",
              "4  @sxtxstate great stuff on Fri #SXSW: Marissa M...  Positive emotion"
            ],
            "text/html": [
              "\n",
              "  <div id=\"df-b1559c79-4a36-45b9-8d4d-2367e6b5725e\">\n",
              "    <div class=\"colab-df-container\">\n",
              "      <div>\n",
              "<style scoped>\n",
              "    .dataframe tbody tr th:only-of-type {\n",
              "        vertical-align: middle;\n",
              "    }\n",
              "\n",
              "    .dataframe tbody tr th {\n",
              "        vertical-align: top;\n",
              "    }\n",
              "\n",
              "    .dataframe thead th {\n",
              "        text-align: right;\n",
              "    }\n",
              "</style>\n",
              "<table border=\"1\" class=\"dataframe\">\n",
              "  <thead>\n",
              "    <tr style=\"text-align: right;\">\n",
              "      <th></th>\n",
              "      <th>review</th>\n",
              "      <th>emotion</th>\n",
              "    </tr>\n",
              "  </thead>\n",
              "  <tbody>\n",
              "    <tr>\n",
              "      <th>0</th>\n",
              "      <td>.@wesley83 I have a 3G iPhone. After 3 hrs twe...</td>\n",
              "      <td>Negative emotion</td>\n",
              "    </tr>\n",
              "    <tr>\n",
              "      <th>1</th>\n",
              "      <td>@jessedee Know about @fludapp ? Awesome iPad/i...</td>\n",
              "      <td>Positive emotion</td>\n",
              "    </tr>\n",
              "    <tr>\n",
              "      <th>2</th>\n",
              "      <td>@swonderlin Can not wait for #iPad 2 also. The...</td>\n",
              "      <td>Positive emotion</td>\n",
              "    </tr>\n",
              "    <tr>\n",
              "      <th>3</th>\n",
              "      <td>@sxsw I hope this year's festival isn't as cra...</td>\n",
              "      <td>Negative emotion</td>\n",
              "    </tr>\n",
              "    <tr>\n",
              "      <th>4</th>\n",
              "      <td>@sxtxstate great stuff on Fri #SXSW: Marissa M...</td>\n",
              "      <td>Positive emotion</td>\n",
              "    </tr>\n",
              "  </tbody>\n",
              "</table>\n",
              "</div>\n",
              "      <button class=\"colab-df-convert\" onclick=\"convertToInteractive('df-b1559c79-4a36-45b9-8d4d-2367e6b5725e')\"\n",
              "              title=\"Convert this dataframe to an interactive table.\"\n",
              "              style=\"display:none;\">\n",
              "        \n",
              "  <svg xmlns=\"http://www.w3.org/2000/svg\" height=\"24px\"viewBox=\"0 0 24 24\"\n",
              "       width=\"24px\">\n",
              "    <path d=\"M0 0h24v24H0V0z\" fill=\"none\"/>\n",
              "    <path d=\"M18.56 5.44l.94 2.06.94-2.06 2.06-.94-2.06-.94-.94-2.06-.94 2.06-2.06.94zm-11 1L8.5 8.5l.94-2.06 2.06-.94-2.06-.94L8.5 2.5l-.94 2.06-2.06.94zm10 10l.94 2.06.94-2.06 2.06-.94-2.06-.94-.94-2.06-.94 2.06-2.06.94z\"/><path d=\"M17.41 7.96l-1.37-1.37c-.4-.4-.92-.59-1.43-.59-.52 0-1.04.2-1.43.59L10.3 9.45l-7.72 7.72c-.78.78-.78 2.05 0 2.83L4 21.41c.39.39.9.59 1.41.59.51 0 1.02-.2 1.41-.59l7.78-7.78 2.81-2.81c.8-.78.8-2.07 0-2.86zM5.41 20L4 18.59l7.72-7.72 1.47 1.35L5.41 20z\"/>\n",
              "  </svg>\n",
              "      </button>\n",
              "      \n",
              "  <style>\n",
              "    .colab-df-container {\n",
              "      display:flex;\n",
              "      flex-wrap:wrap;\n",
              "      gap: 12px;\n",
              "    }\n",
              "\n",
              "    .colab-df-convert {\n",
              "      background-color: #E8F0FE;\n",
              "      border: none;\n",
              "      border-radius: 50%;\n",
              "      cursor: pointer;\n",
              "      display: none;\n",
              "      fill: #1967D2;\n",
              "      height: 32px;\n",
              "      padding: 0 0 0 0;\n",
              "      width: 32px;\n",
              "    }\n",
              "\n",
              "    .colab-df-convert:hover {\n",
              "      background-color: #E2EBFA;\n",
              "      box-shadow: 0px 1px 2px rgba(60, 64, 67, 0.3), 0px 1px 3px 1px rgba(60, 64, 67, 0.15);\n",
              "      fill: #174EA6;\n",
              "    }\n",
              "\n",
              "    [theme=dark] .colab-df-convert {\n",
              "      background-color: #3B4455;\n",
              "      fill: #D2E3FC;\n",
              "    }\n",
              "\n",
              "    [theme=dark] .colab-df-convert:hover {\n",
              "      background-color: #434B5C;\n",
              "      box-shadow: 0px 1px 3px 1px rgba(0, 0, 0, 0.15);\n",
              "      filter: drop-shadow(0px 1px 2px rgba(0, 0, 0, 0.3));\n",
              "      fill: #FFFFFF;\n",
              "    }\n",
              "  </style>\n",
              "\n",
              "      <script>\n",
              "        const buttonEl =\n",
              "          document.querySelector('#df-b1559c79-4a36-45b9-8d4d-2367e6b5725e button.colab-df-convert');\n",
              "        buttonEl.style.display =\n",
              "          google.colab.kernel.accessAllowed ? 'block' : 'none';\n",
              "\n",
              "        async function convertToInteractive(key) {\n",
              "          const element = document.querySelector('#df-b1559c79-4a36-45b9-8d4d-2367e6b5725e');\n",
              "          const dataTable =\n",
              "            await google.colab.kernel.invokeFunction('convertToInteractive',\n",
              "                                                     [key], {});\n",
              "          if (!dataTable) return;\n",
              "\n",
              "          const docLinkHtml = 'Like what you see? Visit the ' +\n",
              "            '<a target=\"_blank\" href=https://colab.research.google.com/notebooks/data_table.ipynb>data table notebook</a>'\n",
              "            + ' to learn more about interactive tables.';\n",
              "          element.innerHTML = '';\n",
              "          dataTable['output_type'] = 'display_data';\n",
              "          await google.colab.output.renderOutput(dataTable, element);\n",
              "          const docLink = document.createElement('div');\n",
              "          docLink.innerHTML = docLinkHtml;\n",
              "          element.appendChild(docLink);\n",
              "        }\n",
              "      </script>\n",
              "    </div>\n",
              "  </div>\n",
              "  "
            ]
          },
          "metadata": {},
          "execution_count": 12
        }
      ],
      "source": [
        "df.drop('product',axis=1,inplace=True)\n",
        "df.head()"
      ],
      "id": "8a86e9cb"
    },
    {
      "cell_type": "code",
      "execution_count": 13,
      "metadata": {
        "colab": {
          "base_uri": "https://localhost:8080/"
        },
        "id": "d38bc762",
        "outputId": "1a12afc4-1e08-4036-85c6-d79c6bf9ee94"
      },
      "outputs": [
        {
          "output_type": "execute_result",
          "data": {
            "text/plain": [
              "review     1\n",
              "emotion    0\n",
              "dtype: int64"
            ]
          },
          "metadata": {},
          "execution_count": 13
        }
      ],
      "source": [
        "df.isnull().sum()  # some product reviews seems empty"
      ],
      "id": "d38bc762"
    },
    {
      "cell_type": "code",
      "execution_count": 14,
      "metadata": {
        "id": "bfb3e30b"
      },
      "outputs": [],
      "source": [
        "df.dropna(inplace=True) # dropping the rows having no reviews"
      ],
      "id": "bfb3e30b"
    },
    {
      "cell_type": "code",
      "execution_count": 15,
      "metadata": {
        "colab": {
          "base_uri": "https://localhost:8080/"
        },
        "id": "h7QNoPKFdZbY",
        "outputId": "be41be96-e49e-4735-9a53-04d6c461f3c6"
      },
      "outputs": [
        {
          "output_type": "execute_result",
          "data": {
            "text/plain": [
              "review     0\n",
              "emotion    0\n",
              "dtype: int64"
            ]
          },
          "metadata": {},
          "execution_count": 15
        }
      ],
      "source": [
        "df.isnull().sum() "
      ],
      "id": "h7QNoPKFdZbY"
    },
    {
      "cell_type": "code",
      "execution_count": 16,
      "metadata": {
        "colab": {
          "base_uri": "https://localhost:8080/"
        },
        "id": "5274f913",
        "outputId": "bb7d845e-5b57-4bda-f351-03d7b5a2b1c6"
      },
      "outputs": [
        {
          "output_type": "stream",
          "name": "stdout",
          "text": [
            "<class 'pandas.core.frame.DataFrame'>\n",
            "Int64Index: 9092 entries, 0 to 9092\n",
            "Data columns (total 2 columns):\n",
            " #   Column   Non-Null Count  Dtype \n",
            "---  ------   --------------  ----- \n",
            " 0   review   9092 non-null   object\n",
            " 1   emotion  9092 non-null   object\n",
            "dtypes: object(2)\n",
            "memory usage: 213.1+ KB\n"
          ]
        }
      ],
      "source": [
        "df.info()   # removed every null value now we need to process the data"
      ],
      "id": "5274f913"
    },
    {
      "cell_type": "markdown",
      "metadata": {
        "id": "d322e363"
      },
      "source": [
        "  <h1><center>Text Preprocessing</center></h1>"
      ],
      "id": "d322e363"
    },
    {
      "cell_type": "code",
      "execution_count": 17,
      "metadata": {
        "colab": {
          "base_uri": "https://localhost:8080/",
          "height": 204
        },
        "id": "94c745be",
        "outputId": "79db07e5-eb84-44b1-88be-9b635da27821"
      },
      "outputs": [
        {
          "output_type": "execute_result",
          "data": {
            "text/plain": [
              "                                              review           emotion\n",
              "0  .@wesley83 I have a 3G iPhone. After 3 hrs twe...  Negative emotion\n",
              "1  @jessedee Know about @fludapp ? Awesome iPad/i...  Positive emotion\n",
              "2  @swonderlin Can not wait for #iPad 2 also. The...  Positive emotion\n",
              "3  @sxsw I hope this year's festival isn't as cra...  Negative emotion\n",
              "4  @sxtxstate great stuff on Fri #SXSW: Marissa M...  Positive emotion"
            ],
            "text/html": [
              "\n",
              "  <div id=\"df-4ab1c24a-c353-407d-855e-810a56c6baa1\">\n",
              "    <div class=\"colab-df-container\">\n",
              "      <div>\n",
              "<style scoped>\n",
              "    .dataframe tbody tr th:only-of-type {\n",
              "        vertical-align: middle;\n",
              "    }\n",
              "\n",
              "    .dataframe tbody tr th {\n",
              "        vertical-align: top;\n",
              "    }\n",
              "\n",
              "    .dataframe thead th {\n",
              "        text-align: right;\n",
              "    }\n",
              "</style>\n",
              "<table border=\"1\" class=\"dataframe\">\n",
              "  <thead>\n",
              "    <tr style=\"text-align: right;\">\n",
              "      <th></th>\n",
              "      <th>review</th>\n",
              "      <th>emotion</th>\n",
              "    </tr>\n",
              "  </thead>\n",
              "  <tbody>\n",
              "    <tr>\n",
              "      <th>0</th>\n",
              "      <td>.@wesley83 I have a 3G iPhone. After 3 hrs twe...</td>\n",
              "      <td>Negative emotion</td>\n",
              "    </tr>\n",
              "    <tr>\n",
              "      <th>1</th>\n",
              "      <td>@jessedee Know about @fludapp ? Awesome iPad/i...</td>\n",
              "      <td>Positive emotion</td>\n",
              "    </tr>\n",
              "    <tr>\n",
              "      <th>2</th>\n",
              "      <td>@swonderlin Can not wait for #iPad 2 also. The...</td>\n",
              "      <td>Positive emotion</td>\n",
              "    </tr>\n",
              "    <tr>\n",
              "      <th>3</th>\n",
              "      <td>@sxsw I hope this year's festival isn't as cra...</td>\n",
              "      <td>Negative emotion</td>\n",
              "    </tr>\n",
              "    <tr>\n",
              "      <th>4</th>\n",
              "      <td>@sxtxstate great stuff on Fri #SXSW: Marissa M...</td>\n",
              "      <td>Positive emotion</td>\n",
              "    </tr>\n",
              "  </tbody>\n",
              "</table>\n",
              "</div>\n",
              "      <button class=\"colab-df-convert\" onclick=\"convertToInteractive('df-4ab1c24a-c353-407d-855e-810a56c6baa1')\"\n",
              "              title=\"Convert this dataframe to an interactive table.\"\n",
              "              style=\"display:none;\">\n",
              "        \n",
              "  <svg xmlns=\"http://www.w3.org/2000/svg\" height=\"24px\"viewBox=\"0 0 24 24\"\n",
              "       width=\"24px\">\n",
              "    <path d=\"M0 0h24v24H0V0z\" fill=\"none\"/>\n",
              "    <path d=\"M18.56 5.44l.94 2.06.94-2.06 2.06-.94-2.06-.94-.94-2.06-.94 2.06-2.06.94zm-11 1L8.5 8.5l.94-2.06 2.06-.94-2.06-.94L8.5 2.5l-.94 2.06-2.06.94zm10 10l.94 2.06.94-2.06 2.06-.94-2.06-.94-.94-2.06-.94 2.06-2.06.94z\"/><path d=\"M17.41 7.96l-1.37-1.37c-.4-.4-.92-.59-1.43-.59-.52 0-1.04.2-1.43.59L10.3 9.45l-7.72 7.72c-.78.78-.78 2.05 0 2.83L4 21.41c.39.39.9.59 1.41.59.51 0 1.02-.2 1.41-.59l7.78-7.78 2.81-2.81c.8-.78.8-2.07 0-2.86zM5.41 20L4 18.59l7.72-7.72 1.47 1.35L5.41 20z\"/>\n",
              "  </svg>\n",
              "      </button>\n",
              "      \n",
              "  <style>\n",
              "    .colab-df-container {\n",
              "      display:flex;\n",
              "      flex-wrap:wrap;\n",
              "      gap: 12px;\n",
              "    }\n",
              "\n",
              "    .colab-df-convert {\n",
              "      background-color: #E8F0FE;\n",
              "      border: none;\n",
              "      border-radius: 50%;\n",
              "      cursor: pointer;\n",
              "      display: none;\n",
              "      fill: #1967D2;\n",
              "      height: 32px;\n",
              "      padding: 0 0 0 0;\n",
              "      width: 32px;\n",
              "    }\n",
              "\n",
              "    .colab-df-convert:hover {\n",
              "      background-color: #E2EBFA;\n",
              "      box-shadow: 0px 1px 2px rgba(60, 64, 67, 0.3), 0px 1px 3px 1px rgba(60, 64, 67, 0.15);\n",
              "      fill: #174EA6;\n",
              "    }\n",
              "\n",
              "    [theme=dark] .colab-df-convert {\n",
              "      background-color: #3B4455;\n",
              "      fill: #D2E3FC;\n",
              "    }\n",
              "\n",
              "    [theme=dark] .colab-df-convert:hover {\n",
              "      background-color: #434B5C;\n",
              "      box-shadow: 0px 1px 3px 1px rgba(0, 0, 0, 0.15);\n",
              "      filter: drop-shadow(0px 1px 2px rgba(0, 0, 0, 0.3));\n",
              "      fill: #FFFFFF;\n",
              "    }\n",
              "  </style>\n",
              "\n",
              "      <script>\n",
              "        const buttonEl =\n",
              "          document.querySelector('#df-4ab1c24a-c353-407d-855e-810a56c6baa1 button.colab-df-convert');\n",
              "        buttonEl.style.display =\n",
              "          google.colab.kernel.accessAllowed ? 'block' : 'none';\n",
              "\n",
              "        async function convertToInteractive(key) {\n",
              "          const element = document.querySelector('#df-4ab1c24a-c353-407d-855e-810a56c6baa1');\n",
              "          const dataTable =\n",
              "            await google.colab.kernel.invokeFunction('convertToInteractive',\n",
              "                                                     [key], {});\n",
              "          if (!dataTable) return;\n",
              "\n",
              "          const docLinkHtml = 'Like what you see? Visit the ' +\n",
              "            '<a target=\"_blank\" href=https://colab.research.google.com/notebooks/data_table.ipynb>data table notebook</a>'\n",
              "            + ' to learn more about interactive tables.';\n",
              "          element.innerHTML = '';\n",
              "          dataTable['output_type'] = 'display_data';\n",
              "          await google.colab.output.renderOutput(dataTable, element);\n",
              "          const docLink = document.createElement('div');\n",
              "          docLink.innerHTML = docLinkHtml;\n",
              "          element.appendChild(docLink);\n",
              "        }\n",
              "      </script>\n",
              "    </div>\n",
              "  </div>\n",
              "  "
            ]
          },
          "metadata": {},
          "execution_count": 17
        }
      ],
      "source": [
        "df.head()"
      ],
      "id": "94c745be"
    },
    {
      "cell_type": "markdown",
      "metadata": {
        "id": "4311bd32"
      },
      "source": [
        "### Emotion column"
      ],
      "id": "4311bd32"
    },
    {
      "cell_type": "code",
      "execution_count": 18,
      "metadata": {
        "colab": {
          "base_uri": "https://localhost:8080/"
        },
        "id": "01ec1119",
        "outputId": "74e53a5f-2385-487c-afdb-0d13ef692821"
      },
      "outputs": [
        {
          "output_type": "execute_result",
          "data": {
            "text/plain": [
              "No emotion toward brand or product    5388\n",
              "Positive emotion                      2978\n",
              "Negative emotion                       570\n",
              "I can't tell                           156\n",
              "Name: emotion, dtype: int64"
            ]
          },
          "metadata": {},
          "execution_count": 18
        }
      ],
      "source": [
        "df['emotion'].value_counts()"
      ],
      "id": "01ec1119"
    },
    {
      "cell_type": "code",
      "execution_count": 19,
      "metadata": {
        "id": "c7d2c9f5"
      },
      "outputs": [],
      "source": [
        "# combining \"I can't tell\" with \"No emotion toward brand or product\"\n",
        "df['emotion'].replace(\"I can't tell\",\"No emotion toward brand or product\",inplace=True)"
      ],
      "id": "c7d2c9f5"
    },
    {
      "cell_type": "code",
      "execution_count": 20,
      "metadata": {
        "id": "e3cb4faa",
        "colab": {
          "base_uri": "https://localhost:8080/"
        },
        "outputId": "9f46b40a-c117-4349-b6a7-c47ebcc9d77a"
      },
      "outputs": [
        {
          "output_type": "execute_result",
          "data": {
            "text/plain": [
              "No emotion toward brand or product    5544\n",
              "Positive emotion                      2978\n",
              "Negative emotion                       570\n",
              "Name: emotion, dtype: int64"
            ]
          },
          "metadata": {},
          "execution_count": 20
        }
      ],
      "source": [
        "df['emotion'].value_counts()"
      ],
      "id": "e3cb4faa"
    },
    {
      "cell_type": "code",
      "execution_count": 21,
      "metadata": {
        "id": "ca8610d3"
      },
      "outputs": [],
      "source": [
        "# mapping each of the types to a numeric value\n",
        "# \"Negative emotion\" -----> 0\n",
        "# \"No emotion toward brand or product\" -----> 1\n",
        "# \"Positive emotion\" -----> 2\n",
        "df['emotion']=df['emotion'].map({\"Negative emotion\":0,\"No emotion toward brand or product\":1,\"Positive emotion\":2})"
      ],
      "id": "ca8610d3"
    },
    {
      "cell_type": "code",
      "execution_count": 22,
      "metadata": {
        "colab": {
          "base_uri": "https://localhost:8080/"
        },
        "id": "02a4356e",
        "outputId": "d1e8e45e-fa42-440a-a8ef-195e48476ebe"
      },
      "outputs": [
        {
          "output_type": "execute_result",
          "data": {
            "text/plain": [
              "1    5544\n",
              "2    2978\n",
              "0     570\n",
              "Name: emotion, dtype: int64"
            ]
          },
          "metadata": {},
          "execution_count": 22
        }
      ],
      "source": [
        "df['emotion'].value_counts()"
      ],
      "id": "02a4356e"
    },
    {
      "cell_type": "code",
      "execution_count": 23,
      "metadata": {
        "colab": {
          "base_uri": "https://localhost:8080/",
          "height": 279
        },
        "id": "66205829",
        "outputId": "4ccb8429-a7ac-4333-ce86-2c4eaf937a49"
      },
      "outputs": [
        {
          "output_type": "display_data",
          "data": {
            "text/plain": [
              "<Figure size 432x288 with 1 Axes>"
            ],
            "image/png": "[encoded data removed]"
          },
          "metadata": {
            "needs_background": "light"
          }
        }
      ],
      "source": [
        "sns.countplot(x='emotion',data=df)\n",
        "plt.grid()"
      ],
      "id": "66205829"
    },
    {
      "cell_type": "markdown",
      "metadata": {
        "id": "79604697"
      },
      "source": [
        "\n",
        "cleaning and analyzing data for any redundancy \n"
      ],
      "id": "79604697"
    },
    {
      "cell_type": "code",
      "execution_count": 24,
      "metadata": {
        "id": "66c70055"
      },
      "outputs": [],
      "source": [
        "import re"
      ],
      "id": "66c70055"
    },
    {
      "cell_type": "code",
      "execution_count": 25,
      "metadata": {
        "id": "72c870de"
      },
      "outputs": [],
      "source": [
        "# converting the text to lowercase\n",
        "df['review']=df['review'].apply(lambda x:x.lower())"
      ],
      "id": "72c870de"
    },
    {
      "cell_type": "code",
      "execution_count": 26,
      "metadata": {
        "colab": {
          "base_uri": "https://localhost:8080/",
          "height": 204
        },
        "id": "a618ebda",
        "outputId": "94cbb53b-c960-4858-8ec5-4aef71a79cba"
      },
      "outputs": [
        {
          "output_type": "execute_result",
          "data": {
            "text/plain": [
              "                                              review  emotion\n",
              "0  .@wesley83 i have a 3g iphone. after 3 hrs twe...        0\n",
              "1  @jessedee know about @fludapp ? awesome ipad/i...        2\n",
              "2  @swonderlin can not wait for #ipad 2 also. the...        2\n",
              "3  @sxsw i hope this year's festival isn't as cra...        0\n",
              "4  @sxtxstate great stuff on fri #sxsw: marissa m...        2"
            ],
            "text/html": [
              "\n",
              "  <div id=\"df-ffa6229a-c2b1-44fc-bc9a-c162853dc72d\">\n",
              "    <div class=\"colab-df-container\">\n",
              "      <div>\n",
              "<style scoped>\n",
              "    .dataframe tbody tr th:only-of-type {\n",
              "        vertical-align: middle;\n",
              "    }\n",
              "\n",
              "    .dataframe tbody tr th {\n",
              "        vertical-align: top;\n",
              "    }\n",
              "\n",
              "    .dataframe thead th {\n",
              "        text-align: right;\n",
              "    }\n",
              "</style>\n",
              "<table border=\"1\" class=\"dataframe\">\n",
              "  <thead>\n",
              "    <tr style=\"text-align: right;\">\n",
              "      <th></th>\n",
              "      <th>review</th>\n",
              "      <th>emotion</th>\n",
              "    </tr>\n",
              "  </thead>\n",
              "  <tbody>\n",
              "    <tr>\n",
              "      <th>0</th>\n",
              "      <td>.@wesley83 i have a 3g iphone. after 3 hrs twe...</td>\n",
              "      <td>0</td>\n",
              "    </tr>\n",
              "    <tr>\n",
              "      <th>1</th>\n",
              "      <td>@jessedee know about @fludapp ? awesome ipad/i...</td>\n",
              "      <td>2</td>\n",
              "    </tr>\n",
              "    <tr>\n",
              "      <th>2</th>\n",
              "      <td>@swonderlin can not wait for #ipad 2 also. the...</td>\n",
              "      <td>2</td>\n",
              "    </tr>\n",
              "    <tr>\n",
              "      <th>3</th>\n",
              "      <td>@sxsw i hope this year's festival isn't as cra...</td>\n",
              "      <td>0</td>\n",
              "    </tr>\n",
              "    <tr>\n",
              "      <th>4</th>\n",
              "      <td>@sxtxstate great stuff on fri #sxsw: marissa m...</td>\n",
              "      <td>2</td>\n",
              "    </tr>\n",
              "  </tbody>\n",
              "</table>\n",
              "</div>\n",
              "      <button class=\"colab-df-convert\" onclick=\"convertToInteractive('df-ffa6229a-c2b1-44fc-bc9a-c162853dc72d')\"\n",
              "              title=\"Convert this dataframe to an interactive table.\"\n",
              "              style=\"display:none;\">\n",
              "        \n",
              "  <svg xmlns=\"http://www.w3.org/2000/svg\" height=\"24px\"viewBox=\"0 0 24 24\"\n",
              "       width=\"24px\">\n",
              "    <path d=\"M0 0h24v24H0V0z\" fill=\"none\"/>\n",
              "    <path d=\"M18.56 5.44l.94 2.06.94-2.06 2.06-.94-2.06-.94-.94-2.06-.94 2.06-2.06.94zm-11 1L8.5 8.5l.94-2.06 2.06-.94-2.06-.94L8.5 2.5l-.94 2.06-2.06.94zm10 10l.94 2.06.94-2.06 2.06-.94-2.06-.94-.94-2.06-.94 2.06-2.06.94z\"/><path d=\"M17.41 7.96l-1.37-1.37c-.4-.4-.92-.59-1.43-.59-.52 0-1.04.2-1.43.59L10.3 9.45l-7.72 7.72c-.78.78-.78 2.05 0 2.83L4 21.41c.39.39.9.59 1.41.59.51 0 1.02-.2 1.41-.59l7.78-7.78 2.81-2.81c.8-.78.8-2.07 0-2.86zM5.41 20L4 18.59l7.72-7.72 1.47 1.35L5.41 20z\"/>\n",
              "  </svg>\n",
              "      </button>\n",
              "      \n",
              "  <style>\n",
              "    .colab-df-container {\n",
              "      display:flex;\n",
              "      flex-wrap:wrap;\n",
              "      gap: 12px;\n",
              "    }\n",
              "\n",
              "    .colab-df-convert {\n",
              "      background-color: #E8F0FE;\n",
              "      border: none;\n",
              "      border-radius: 50%;\n",
              "      cursor: pointer;\n",
              "      display: none;\n",
              "      fill: #1967D2;\n",
              "      height: 32px;\n",
              "      padding: 0 0 0 0;\n",
              "      width: 32px;\n",
              "    }\n",
              "\n",
              "    .colab-df-convert:hover {\n",
              "      background-color: #E2EBFA;\n",
              "      box-shadow: 0px 1px 2px rgba(60, 64, 67, 0.3), 0px 1px 3px 1px rgba(60, 64, 67, 0.15);\n",
              "      fill: #174EA6;\n",
              "    }\n",
              "\n",
              "    [theme=dark] .colab-df-convert {\n",
              "      background-color: #3B4455;\n",
              "      fill: #D2E3FC;\n",
              "    }\n",
              "\n",
              "    [theme=dark] .colab-df-convert:hover {\n",
              "      background-color: #434B5C;\n",
              "      box-shadow: 0px 1px 3px 1px rgba(0, 0, 0, 0.15);\n",
              "      filter: drop-shadow(0px 1px 2px rgba(0, 0, 0, 0.3));\n",
              "      fill: #FFFFFF;\n",
              "    }\n",
              "  </style>\n",
              "\n",
              "      <script>\n",
              "        const buttonEl =\n",
              "          document.querySelector('#df-ffa6229a-c2b1-44fc-bc9a-c162853dc72d button.colab-df-convert');\n",
              "        buttonEl.style.display =\n",
              "          google.colab.kernel.accessAllowed ? 'block' : 'none';\n",
              "\n",
              "        async function convertToInteractive(key) {\n",
              "          const element = document.querySelector('#df-ffa6229a-c2b1-44fc-bc9a-c162853dc72d');\n",
              "          const dataTable =\n",
              "            await google.colab.kernel.invokeFunction('convertToInteractive',\n",
              "                                                     [key], {});\n",
              "          if (!dataTable) return;\n",
              "\n",
              "          const docLinkHtml = 'Like what you see? Visit the ' +\n",
              "            '<a target=\"_blank\" href=https://colab.research.google.com/notebooks/data_table.ipynb>data table notebook</a>'\n",
              "            + ' to learn more about interactive tables.';\n",
              "          element.innerHTML = '';\n",
              "          dataTable['output_type'] = 'display_data';\n",
              "          await google.colab.output.renderOutput(dataTable, element);\n",
              "          const docLink = document.createElement('div');\n",
              "          docLink.innerHTML = docLinkHtml;\n",
              "          element.appendChild(docLink);\n",
              "        }\n",
              "      </script>\n",
              "    </div>\n",
              "  </div>\n",
              "  "
            ]
          },
          "metadata": {},
          "execution_count": 26
        }
      ],
      "source": [
        "df.head()"
      ],
      "id": "a618ebda"
    },
    {
      "cell_type": "code",
      "execution_count": 27,
      "metadata": {
        "id": "3ba0631c"
      },
      "outputs": [],
      "source": [
        "# removing hyperlinks from the text\n",
        "df['review']=df['review'].apply(lambda x:re.sub('http[s]?://\\S+',' ', x))"
      ],
      "id": "3ba0631c"
    },
    {
      "cell_type": "code",
      "execution_count": 28,
      "metadata": {
        "id": "b5fa1e15"
      },
      "outputs": [],
      "source": [
        "# removing non alphabetical characters from the text\n",
        "df['review']=df['review'].apply(lambda x:re.sub(r'[^a-z]+',' ',x))"
      ],
      "id": "b5fa1e15"
    },
    {
      "cell_type": "code",
      "execution_count": 29,
      "metadata": {
        "colab": {
          "base_uri": "https://localhost:8080/",
          "height": 204
        },
        "id": "5e11ea35",
        "outputId": "7e9b9729-bd38-4fcc-8106-bbd3448802f5"
      },
      "outputs": [
        {
          "output_type": "execute_result",
          "data": {
            "text/plain": [
              "                                              review  emotion\n",
              "0   wesley i have a g iphone after hrs tweeting a...        0\n",
              "1   jessedee know about fludapp awesome ipad ipho...        2\n",
              "2   swonderlin can not wait for ipad also they sh...        2\n",
              "3   sxsw i hope this year s festival isn t as cra...        0\n",
              "4   sxtxstate great stuff on fri sxsw marissa may...        2"
            ],
            "text/html": [
              "\n",
              "  <div id=\"df-40a11e8a-1901-43a8-acad-20c5d47c028a\">\n",
              "    <div class=\"colab-df-container\">\n",
              "      <div>\n",
              "<style scoped>\n",
              "    .dataframe tbody tr th:only-of-type {\n",
              "        vertical-align: middle;\n",
              "    }\n",
              "\n",
              "    .dataframe tbody tr th {\n",
              "        vertical-align: top;\n",
              "    }\n",
              "\n",
              "    .dataframe thead th {\n",
              "        text-align: right;\n",
              "    }\n",
              "</style>\n",
              "<table border=\"1\" class=\"dataframe\">\n",
              "  <thead>\n",
              "    <tr style=\"text-align: right;\">\n",
              "      <th></th>\n",
              "      <th>review</th>\n",
              "      <th>emotion</th>\n",
              "    </tr>\n",
              "  </thead>\n",
              "  <tbody>\n",
              "    <tr>\n",
              "      <th>0</th>\n",
              "      <td>wesley i have a g iphone after hrs tweeting a...</td>\n",
              "      <td>0</td>\n",
              "    </tr>\n",
              "    <tr>\n",
              "      <th>1</th>\n",
              "      <td>jessedee know about fludapp awesome ipad ipho...</td>\n",
              "      <td>2</td>\n",
              "    </tr>\n",
              "    <tr>\n",
              "      <th>2</th>\n",
              "      <td>swonderlin can not wait for ipad also they sh...</td>\n",
              "      <td>2</td>\n",
              "    </tr>\n",
              "    <tr>\n",
              "      <th>3</th>\n",
              "      <td>sxsw i hope this year s festival isn t as cra...</td>\n",
              "      <td>0</td>\n",
              "    </tr>\n",
              "    <tr>\n",
              "      <th>4</th>\n",
              "      <td>sxtxstate great stuff on fri sxsw marissa may...</td>\n",
              "      <td>2</td>\n",
              "    </tr>\n",
              "  </tbody>\n",
              "</table>\n",
              "</div>\n",
              "      <button class=\"colab-df-convert\" onclick=\"convertToInteractive('df-40a11e8a-1901-43a8-acad-20c5d47c028a')\"\n",
              "              title=\"Convert this dataframe to an interactive table.\"\n",
              "              style=\"display:none;\">\n",
              "        \n",
              "  <svg xmlns=\"http://www.w3.org/2000/svg\" height=\"24px\"viewBox=\"0 0 24 24\"\n",
              "       width=\"24px\">\n",
              "    <path d=\"M0 0h24v24H0V0z\" fill=\"none\"/>\n",
              "    <path d=\"M18.56 5.44l.94 2.06.94-2.06 2.06-.94-2.06-.94-.94-2.06-.94 2.06-2.06.94zm-11 1L8.5 8.5l.94-2.06 2.06-.94-2.06-.94L8.5 2.5l-.94 2.06-2.06.94zm10 10l.94 2.06.94-2.06 2.06-.94-2.06-.94-.94-2.06-.94 2.06-2.06.94z\"/><path d=\"M17.41 7.96l-1.37-1.37c-.4-.4-.92-.59-1.43-.59-.52 0-1.04.2-1.43.59L10.3 9.45l-7.72 7.72c-.78.78-.78 2.05 0 2.83L4 21.41c.39.39.9.59 1.41.59.51 0 1.02-.2 1.41-.59l7.78-7.78 2.81-2.81c.8-.78.8-2.07 0-2.86zM5.41 20L4 18.59l7.72-7.72 1.47 1.35L5.41 20z\"/>\n",
              "  </svg>\n",
              "      </button>\n",
              "      \n",
              "  <style>\n",
              "    .colab-df-container {\n",
              "      display:flex;\n",
              "      flex-wrap:wrap;\n",
              "      gap: 12px;\n",
              "    }\n",
              "\n",
              "    .colab-df-convert {\n",
              "      background-color: #E8F0FE;\n",
              "      border: none;\n",
              "      border-radius: 50%;\n",
              "      cursor: pointer;\n",
              "      display: none;\n",
              "      fill: #1967D2;\n",
              "      height: 32px;\n",
              "      padding: 0 0 0 0;\n",
              "      width: 32px;\n",
              "    }\n",
              "\n",
              "    .colab-df-convert:hover {\n",
              "      background-color: #E2EBFA;\n",
              "      box-shadow: 0px 1px 2px rgba(60, 64, 67, 0.3), 0px 1px 3px 1px rgba(60, 64, 67, 0.15);\n",
              "      fill: #174EA6;\n",
              "    }\n",
              "\n",
              "    [theme=dark] .colab-df-convert {\n",
              "      background-color: #3B4455;\n",
              "      fill: #D2E3FC;\n",
              "    }\n",
              "\n",
              "    [theme=dark] .colab-df-convert:hover {\n",
              "      background-color: #434B5C;\n",
              "      box-shadow: 0px 1px 3px 1px rgba(0, 0, 0, 0.15);\n",
              "      filter: drop-shadow(0px 1px 2px rgba(0, 0, 0, 0.3));\n",
              "      fill: #FFFFFF;\n",
              "    }\n",
              "  </style>\n",
              "\n",
              "      <script>\n",
              "        const buttonEl =\n",
              "          document.querySelector('#df-40a11e8a-1901-43a8-acad-20c5d47c028a button.colab-df-convert');\n",
              "        buttonEl.style.display =\n",
              "          google.colab.kernel.accessAllowed ? 'block' : 'none';\n",
              "\n",
              "        async function convertToInteractive(key) {\n",
              "          const element = document.querySelector('#df-40a11e8a-1901-43a8-acad-20c5d47c028a');\n",
              "          const dataTable =\n",
              "            await google.colab.kernel.invokeFunction('convertToInteractive',\n",
              "                                                     [key], {});\n",
              "          if (!dataTable) return;\n",
              "\n",
              "          const docLinkHtml = 'Like what you see? Visit the ' +\n",
              "            '<a target=\"_blank\" href=https://colab.research.google.com/notebooks/data_table.ipynb>data table notebook</a>'\n",
              "            + ' to learn more about interactive tables.';\n",
              "          element.innerHTML = '';\n",
              "          dataTable['output_type'] = 'display_data';\n",
              "          await google.colab.output.renderOutput(dataTable, element);\n",
              "          const docLink = document.createElement('div');\n",
              "          docLink.innerHTML = docLinkHtml;\n",
              "          element.appendChild(docLink);\n",
              "        }\n",
              "      </script>\n",
              "    </div>\n",
              "  </div>\n",
              "  "
            ]
          },
          "metadata": {},
          "execution_count": 29
        }
      ],
      "source": [
        "df.head()"
      ],
      "id": "5e11ea35"
    },
    {
      "cell_type": "code",
      "execution_count": 30,
      "metadata": {
        "id": "8d5c7b48"
      },
      "outputs": [],
      "source": [
        "# multiple spaces to a single space\n",
        "df['review']=df['review'].apply(lambda x:\" \".join(x.split()))"
      ],
      "id": "8d5c7b48"
    },
    {
      "cell_type": "code",
      "execution_count": 31,
      "metadata": {
        "colab": {
          "base_uri": "https://localhost:8080/",
          "height": 204
        },
        "id": "IW0pIaXFe5Ym",
        "outputId": "64f10417-b48f-4bb4-d7f1-a995abb43471"
      },
      "outputs": [
        {
          "output_type": "execute_result",
          "data": {
            "text/plain": [
              "                                              review  emotion\n",
              "0  wesley i have a g iphone after hrs tweeting at...        0\n",
              "1  jessedee know about fludapp awesome ipad iphon...        2\n",
              "2  swonderlin can not wait for ipad also they sho...        2\n",
              "3  sxsw i hope this year s festival isn t as cras...        0\n",
              "4  sxtxstate great stuff on fri sxsw marissa maye...        2"
            ],
            "text/html": [
              "\n",
              "  <div id=\"df-1ca12c18-de16-4895-84d7-69f28984f3ed\">\n",
              "    <div class=\"colab-df-container\">\n",
              "      <div>\n",
              "<style scoped>\n",
              "    .dataframe tbody tr th:only-of-type {\n",
              "        vertical-align: middle;\n",
              "    }\n",
              "\n",
              "    .dataframe tbody tr th {\n",
              "        vertical-align: top;\n",
              "    }\n",
              "\n",
              "    .dataframe thead th {\n",
              "        text-align: right;\n",
              "    }\n",
              "</style>\n",
              "<table border=\"1\" class=\"dataframe\">\n",
              "  <thead>\n",
              "    <tr style=\"text-align: right;\">\n",
              "      <th></th>\n",
              "      <th>review</th>\n",
              "      <th>emotion</th>\n",
              "    </tr>\n",
              "  </thead>\n",
              "  <tbody>\n",
              "    <tr>\n",
              "      <th>0</th>\n",
              "      <td>wesley i have a g iphone after hrs tweeting at...</td>\n",
              "      <td>0</td>\n",
              "    </tr>\n",
              "    <tr>\n",
              "      <th>1</th>\n",
              "      <td>jessedee know about fludapp awesome ipad iphon...</td>\n",
              "      <td>2</td>\n",
              "    </tr>\n",
              "    <tr>\n",
              "      <th>2</th>\n",
              "      <td>swonderlin can not wait for ipad also they sho...</td>\n",
              "      <td>2</td>\n",
              "    </tr>\n",
              "    <tr>\n",
              "      <th>3</th>\n",
              "      <td>sxsw i hope this year s festival isn t as cras...</td>\n",
              "      <td>0</td>\n",
              "    </tr>\n",
              "    <tr>\n",
              "      <th>4</th>\n",
              "      <td>sxtxstate great stuff on fri sxsw marissa maye...</td>\n",
              "      <td>2</td>\n",
              "    </tr>\n",
              "  </tbody>\n",
              "</table>\n",
              "</div>\n",
              "      <button class=\"colab-df-convert\" onclick=\"convertToInteractive('df-1ca12c18-de16-4895-84d7-69f28984f3ed')\"\n",
              "              title=\"Convert this dataframe to an interactive table.\"\n",
              "              style=\"display:none;\">\n",
              "        \n",
              "  <svg xmlns=\"http://www.w3.org/2000/svg\" height=\"24px\"viewBox=\"0 0 24 24\"\n",
              "       width=\"24px\">\n",
              "    <path d=\"M0 0h24v24H0V0z\" fill=\"none\"/>\n",
              "    <path d=\"M18.56 5.44l.94 2.06.94-2.06 2.06-.94-2.06-.94-.94-2.06-.94 2.06-2.06.94zm-11 1L8.5 8.5l.94-2.06 2.06-.94-2.06-.94L8.5 2.5l-.94 2.06-2.06.94zm10 10l.94 2.06.94-2.06 2.06-.94-2.06-.94-.94-2.06-.94 2.06-2.06.94z\"/><path d=\"M17.41 7.96l-1.37-1.37c-.4-.4-.92-.59-1.43-.59-.52 0-1.04.2-1.43.59L10.3 9.45l-7.72 7.72c-.78.78-.78 2.05 0 2.83L4 21.41c.39.39.9.59 1.41.59.51 0 1.02-.2 1.41-.59l7.78-7.78 2.81-2.81c.8-.78.8-2.07 0-2.86zM5.41 20L4 18.59l7.72-7.72 1.47 1.35L5.41 20z\"/>\n",
              "  </svg>\n",
              "      </button>\n",
              "      \n",
              "  <style>\n",
              "    .colab-df-container {\n",
              "      display:flex;\n",
              "      flex-wrap:wrap;\n",
              "      gap: 12px;\n",
              "    }\n",
              "\n",
              "    .colab-df-convert {\n",
              "      background-color: #E8F0FE;\n",
              "      border: none;\n",
              "      border-radius: 50%;\n",
              "      cursor: pointer;\n",
              "      display: none;\n",
              "      fill: #1967D2;\n",
              "      height: 32px;\n",
              "      padding: 0 0 0 0;\n",
              "      width: 32px;\n",
              "    }\n",
              "\n",
              "    .colab-df-convert:hover {\n",
              "      background-color: #E2EBFA;\n",
              "      box-shadow: 0px 1px 2px rgba(60, 64, 67, 0.3), 0px 1px 3px 1px rgba(60, 64, 67, 0.15);\n",
              "      fill: #174EA6;\n",
              "    }\n",
              "\n",
              "    [theme=dark] .colab-df-convert {\n",
              "      background-color: #3B4455;\n",
              "      fill: #D2E3FC;\n",
              "    }\n",
              "\n",
              "    [theme=dark] .colab-df-convert:hover {\n",
              "      background-color: #434B5C;\n",
              "      box-shadow: 0px 1px 3px 1px rgba(0, 0, 0, 0.15);\n",
              "      filter: drop-shadow(0px 1px 2px rgba(0, 0, 0, 0.3));\n",
              "      fill: #FFFFFF;\n",
              "    }\n",
              "  </style>\n",
              "\n",
              "      <script>\n",
              "        const buttonEl =\n",
              "          document.querySelector('#df-1ca12c18-de16-4895-84d7-69f28984f3ed button.colab-df-convert');\n",
              "        buttonEl.style.display =\n",
              "          google.colab.kernel.accessAllowed ? 'block' : 'none';\n",
              "\n",
              "        async function convertToInteractive(key) {\n",
              "          const element = document.querySelector('#df-1ca12c18-de16-4895-84d7-69f28984f3ed');\n",
              "          const dataTable =\n",
              "            await google.colab.kernel.invokeFunction('convertToInteractive',\n",
              "                                                     [key], {});\n",
              "          if (!dataTable) return;\n",
              "\n",
              "          const docLinkHtml = 'Like what you see? Visit the ' +\n",
              "            '<a target=\"_blank\" href=https://colab.research.google.com/notebooks/data_table.ipynb>data table notebook</a>'\n",
              "            + ' to learn more about interactive tables.';\n",
              "          element.innerHTML = '';\n",
              "          dataTable['output_type'] = 'display_data';\n",
              "          await google.colab.output.renderOutput(dataTable, element);\n",
              "          const docLink = document.createElement('div');\n",
              "          docLink.innerHTML = docLinkHtml;\n",
              "          element.appendChild(docLink);\n",
              "        }\n",
              "      </script>\n",
              "    </div>\n",
              "  </div>\n",
              "  "
            ]
          },
          "metadata": {},
          "execution_count": 31
        }
      ],
      "source": [
        "df.head()"
      ],
      "id": "IW0pIaXFe5Ym"
    },
    {
      "cell_type": "markdown",
      "metadata": {
        "id": "32a18599"
      },
      "source": [
        "### Tokenizing and removing stopwords"
      ],
      "id": "32a18599"
    },
    {
      "cell_type": "code",
      "execution_count": 32,
      "metadata": {
        "colab": {
          "base_uri": "https://localhost:8080/"
        },
        "id": "de6c8f80",
        "outputId": "2dc6016f-359a-406f-8bf1-d7a280cbd950"
      },
      "outputs": [
        {
          "output_type": "stream",
          "name": "stderr",
          "text": [
            "[nltk_data] Downloading package stopwords to /root/nltk_data...\n",
            "[nltk_data]   Unzipping corpora/stopwords.zip.\n"
          ]
        },
        {
          "output_type": "execute_result",
          "data": {
            "text/plain": [
              "True"
            ]
          },
          "metadata": {},
          "execution_count": 32
        }
      ],
      "source": [
        "import nltk\n",
        "from nltk.corpus import stopwords\n",
        "nltk.download('stopwords')"
      ],
      "id": "de6c8f80"
    },
    {
      "cell_type": "code",
      "execution_count": 33,
      "metadata": {
        "id": "b678ac40"
      },
      "outputs": [],
      "source": [
        "def stopwords_removal(text):\n",
        "    return [w for w in text.split() if w not in stopwords.words('english')]"
      ],
      "id": "b678ac40"
    },
    {
      "cell_type": "code",
      "execution_count": 34,
      "metadata": {
        "id": "22b712c6"
      },
      "outputs": [],
      "source": [
        "df['review']=df['review'].apply(stopwords_removal)"
      ],
      "id": "22b712c6"
    },
    {
      "cell_type": "code",
      "execution_count": 35,
      "metadata": {
        "colab": {
          "base_uri": "https://localhost:8080/",
          "height": 574
        },
        "id": "eed305d1",
        "outputId": "67a958e0-bab8-4543-a6fa-1e12e0bce01e"
      },
      "outputs": [
        {
          "output_type": "execute_result",
          "data": {
            "text/plain": [
              "                                              review  emotion\n",
              "0  [wesley, g, iphone, hrs, tweeting, rise, austi...        0\n",
              "1  [jessedee, know, fludapp, awesome, ipad, iphon...        2\n",
              "2         [swonderlin, wait, ipad, also, sale, sxsw]        2\n",
              "3  [sxsw, hope, year, festival, crashy, year, iph...        0\n",
              "4  [sxtxstate, great, stuff, fri, sxsw, marissa, ...        2"
            ],
            "text/html": [
              "\n",
              "  <div id=\"df-eba1a587-9b44-4eb3-b349-ca5d44704d38\">\n",
              "    <div class=\"colab-df-container\">\n",
              "      <div>\n",
              "<style scoped>\n",
              "    .dataframe tbody tr th:only-of-type {\n",
              "        vertical-align: middle;\n",
              "    }\n",
              "\n",
              "    .dataframe tbody tr th {\n",
              "        vertical-align: top;\n",
              "    }\n",
              "\n",
              "    .dataframe thead th {\n",
              "        text-align: right;\n",
              "    }\n",
              "</style>\n",
              "<table border=\"1\" class=\"dataframe\">\n",
              "  <thead>\n",
              "    <tr style=\"text-align: right;\">\n",
              "      <th></th>\n",
              "      <th>review</th>\n",
              "      <th>emotion</th>\n",
              "    </tr>\n",
              "  </thead>\n",
              "  <tbody>\n",
              "    <tr>\n",
              "      <th>0</th>\n",
              "      <td>[wesley, g, iphone, hrs, tweeting, rise, austi...</td>\n",
              "      <td>0</td>\n",
              "    </tr>\n",
              "    <tr>\n",
              "      <th>1</th>\n",
              "      <td>[jessedee, know, fludapp, awesome, ipad, iphon...</td>\n",
              "      <td>2</td>\n",
              "    </tr>\n",
              "    <tr>\n",
              "      <th>2</th>\n",
              "      <td>[swonderlin, wait, ipad, also, sale, sxsw]</td>\n",
              "      <td>2</td>\n",
              "    </tr>\n",
              "    <tr>\n",
              "      <th>3</th>\n",
              "      <td>[sxsw, hope, year, festival, crashy, year, iph...</td>\n",
              "      <td>0</td>\n",
              "    </tr>\n",
              "    <tr>\n",
              "      <th>4</th>\n",
              "      <td>[sxtxstate, great, stuff, fri, sxsw, marissa, ...</td>\n",
              "      <td>2</td>\n",
              "    </tr>\n",
              "  </tbody>\n",
              "</table>\n",
              "</div>\n",
              "      <button class=\"colab-df-convert\" onclick=\"convertToInteractive('df-eba1a587-9b44-4eb3-b349-ca5d44704d38')\"\n",
              "              title=\"Convert this dataframe to an interactive table.\"\n",
              "              style=\"display:none;\">\n",
              "        \n",
              "  <svg xmlns=\"http://www.w3.org/2000/svg\" height=\"24px\"viewBox=\"0 0 24 24\"\n",
              "       width=\"24px\">\n",
              "    <path d=\"M0 0h24v24H0V0z\" fill=\"none\"/>\n",
              "    <path d=\"M18.56 5.44l.94 2.06.94-2.06 2.06-.94-2.06-.94-.94-2.06-.94 2.06-2.06.94zm-11 1L8.5 8.5l.94-2.06 2.06-.94-2.06-.94L8.5 2.5l-.94 2.06-2.06.94zm10 10l.94 2.06.94-2.06 2.06-.94-2.06-.94-.94-2.06-.94 2.06-2.06.94z\"/><path d=\"M17.41 7.96l-1.37-1.37c-.4-.4-.92-.59-1.43-.59-.52 0-1.04.2-1.43.59L10.3 9.45l-7.72 7.72c-.78.78-.78 2.05 0 2.83L4 21.41c.39.39.9.59 1.41.59.51 0 1.02-.2 1.41-.59l7.78-7.78 2.81-2.81c.8-.78.8-2.07 0-2.86zM5.41 20L4 18.59l7.72-7.72 1.47 1.35L5.41 20z\"/>\n",
              "  </svg>\n",
              "      </button>\n",
              "      \n",
              "  <style>\n",
              "    .colab-df-container {\n",
              "      display:flex;\n",
              "      flex-wrap:wrap;\n",
              "      gap: 12px;\n",
              "    }\n",
              "\n",
              "    .colab-df-convert {\n",
              "      background-color: #E8F0FE;\n",
              "      border: none;\n",
              "      border-radius: 50%;\n",
              "      cursor: pointer;\n",
              "      display: none;\n",
              "      fill: #1967D2;\n",
              "      height: 32px;\n",
              "      padding: 0 0 0 0;\n",
              "      width: 32px;\n",
              "    }\n",
              "\n",
              "    .colab-df-convert:hover {\n",
              "      background-color: #E2EBFA;\n",
              "      box-shadow: 0px 1px 2px rgba(60, 64, 67, 0.3), 0px 1px 3px 1px rgba(60, 64, 67, 0.15);\n",
              "      fill: #174EA6;\n",
              "    }\n",
              "\n",
              "    [theme=dark] .colab-df-convert {\n",
              "      background-color: #3B4455;\n",
              "      fill: #D2E3FC;\n",
              "    }\n",
              "\n",
              "    [theme=dark] .colab-df-convert:hover {\n",
              "      background-color: #434B5C;\n",
              "      box-shadow: 0px 1px 3px 1px rgba(0, 0, 0, 0.15);\n",
              "      filter: drop-shadow(0px 1px 2px rgba(0, 0, 0, 0.3));\n",
              "      fill: #FFFFFF;\n",
              "    }\n",
              "  </style>\n",
              "\n",
              "      <script>\n",
              "        const buttonEl =\n",
              "          document.querySelector('#df-eba1a587-9b44-4eb3-b349-ca5d44704d38 button.colab-df-convert');\n",
              "        buttonEl.style.display =\n",
              "          google.colab.kernel.accessAllowed ? 'block' : 'none';\n",
              "\n",
              "        async function convertToInteractive(key) {\n",
              "          const element = document.querySelector('#df-eba1a587-9b44-4eb3-b349-ca5d44704d38');\n",
              "          const dataTable =\n",
              "            await google.colab.kernel.invokeFunction('convertToInteractive',\n",
              "                                                     [key], {});\n",
              "          if (!dataTable) return;\n",
              "\n",
              "          const docLinkHtml = 'Like what you see? Visit the ' +\n",
              "            '<a target=\"_blank\" href=https://colab.research.google.com/notebooks/data_table.ipynb>data table notebook</a>'\n",
              "            + ' to learn more about interactive tables.';\n",
              "          element.innerHTML = '';\n",
              "          dataTable['output_type'] = 'display_data';\n",
              "          await google.colab.output.renderOutput(dataTable, element);\n",
              "          const docLink = document.createElement('div');\n",
              "          docLink.innerHTML = docLinkHtml;\n",
              "          element.appendChild(docLink);\n",
              "        }\n",
              "      </script>\n",
              "    </div>\n",
              "  </div>\n",
              "  "
            ]
          },
          "metadata": {},
          "execution_count": 35
        }
      ],
      "source": [
        "df.head()"
      ],
      "id": "eed305d1"
    },
    {
      "cell_type": "code",
      "execution_count": 36,
      "metadata": {
        "colab": {
          "base_uri": "https://localhost:8080/"
        },
        "id": "6908d64d",
        "outputId": "e66d79bb-2a63-4c20-8a76-475b0a11c45e"
      },
      "outputs": [
        {
          "output_type": "stream",
          "name": "stderr",
          "text": [
            "[nltk_data] Downloading package wordnet to /root/nltk_data...\n",
            "[nltk_data]   Unzipping corpora/wordnet.zip.\n",
            "[nltk_data] Downloading package omw-1.4 to /root/nltk_data...\n",
            "[nltk_data]   Unzipping corpora/omw-1.4.zip.\n"
          ]
        },
        {
          "output_type": "execute_result",
          "data": {
            "text/plain": [
              "True"
            ]
          },
          "metadata": {},
          "execution_count": 36
        }
      ],
      "source": [
        "from nltk.stem import WordNetLemmatizer\n",
        "nltk.download('wordnet')\n",
        "nltk.download('omw-1.4')\n"
      ],
      "id": "6908d64d"
    },
    {
      "cell_type": "code",
      "execution_count": 37,
      "metadata": {
        "id": "68c42e3e"
      },
      "outputs": [],
      "source": [
        "def lemmatizer(text):\n",
        "    lemma=WordNetLemmatizer()\n",
        "    return [lemma.lemmatize(w) for w in text]"
      ],
      "id": "68c42e3e"
    },
    {
      "cell_type": "code",
      "execution_count": 38,
      "metadata": {
        "id": "3ab3af00"
      },
      "outputs": [],
      "source": [
        "df['review']=df['review'].apply(lemmatizer)"
      ],
      "id": "3ab3af00"
    },
    {
      "cell_type": "code",
      "execution_count": 39,
      "metadata": {
        "colab": {
          "base_uri": "https://localhost:8080/",
          "height": 591
        },
        "id": "c1d65b33",
        "outputId": "4d2f6d84-f6c4-40d5-f05a-99b5f906d4a6"
      },
      "outputs": [
        {
          "output_type": "execute_result",
          "data": {
            "text/plain": [
              "                                              review  emotion\n",
              "0  [wesley, g, iphone, hr, tweeting, rise, austin...        0\n",
              "1  [jessedee, know, fludapp, awesome, ipad, iphon...        2\n",
              "2         [swonderlin, wait, ipad, also, sale, sxsw]        2\n",
              "3  [sxsw, hope, year, festival, crashy, year, iph...        0\n",
              "4  [sxtxstate, great, stuff, fri, sxsw, marissa, ...        2"
            ],
            "text/html": [
              "\n",
              "  <div id=\"df-13c7159e-da69-4a4e-a168-96c4ad646e0a\">\n",
              "    <div class=\"colab-df-container\">\n",
              "      <div>\n",
              "<style scoped>\n",
              "    .dataframe tbody tr th:only-of-type {\n",
              "        vertical-align: middle;\n",
              "    }\n",
              "\n",
              "    .dataframe tbody tr th {\n",
              "        vertical-align: top;\n",
              "    }\n",
              "\n",
              "    .dataframe thead th {\n",
              "        text-align: right;\n",
              "    }\n",
              "</style>\n",
              "<table border=\"1\" class=\"dataframe\">\n",
              "  <thead>\n",
              "    <tr style=\"text-align: right;\">\n",
              "      <th></th>\n",
              "      <th>review</th>\n",
              "      <th>emotion</th>\n",
              "    </tr>\n",
              "  </thead>\n",
              "  <tbody>\n",
              "    <tr>\n",
              "      <th>0</th>\n",
              "      <td>[wesley, g, iphone, hr, tweeting, rise, austin...</td>\n",
              "      <td>0</td>\n",
              "    </tr>\n",
              "    <tr>\n",
              "      <th>1</th>\n",
              "      <td>[jessedee, know, fludapp, awesome, ipad, iphon...</td>\n",
              "      <td>2</td>\n",
              "    </tr>\n",
              "    <tr>\n",
              "      <th>2</th>\n",
              "      <td>[swonderlin, wait, ipad, also, sale, sxsw]</td>\n",
              "      <td>2</td>\n",
              "    </tr>\n",
              "    <tr>\n",
              "      <th>3</th>\n",
              "      <td>[sxsw, hope, year, festival, crashy, year, iph...</td>\n",
              "      <td>0</td>\n",
              "    </tr>\n",
              "    <tr>\n",
              "      <th>4</th>\n",
              "      <td>[sxtxstate, great, stuff, fri, sxsw, marissa, ...</td>\n",
              "      <td>2</td>\n",
              "    </tr>\n",
              "  </tbody>\n",
              "</table>\n",
              "</div>\n",
              "      <button class=\"colab-df-convert\" onclick=\"convertToInteractive('df-13c7159e-da69-4a4e-a168-96c4ad646e0a')\"\n",
              "              title=\"Convert this dataframe to an interactive table.\"\n",
              "              style=\"display:none;\">\n",
              "        \n",
              "  <svg xmlns=\"http://www.w3.org/2000/svg\" height=\"24px\"viewBox=\"0 0 24 24\"\n",
              "       width=\"24px\">\n",
              "    <path d=\"M0 0h24v24H0V0z\" fill=\"none\"/>\n",
              "    <path d=\"M18.56 5.44l.94 2.06.94-2.06 2.06-.94-2.06-.94-.94-2.06-.94 2.06-2.06.94zm-11 1L8.5 8.5l.94-2.06 2.06-.94-2.06-.94L8.5 2.5l-.94 2.06-2.06.94zm10 10l.94 2.06.94-2.06 2.06-.94-2.06-.94-.94-2.06-.94 2.06-2.06.94z\"/><path d=\"M17.41 7.96l-1.37-1.37c-.4-.4-.92-.59-1.43-.59-.52 0-1.04.2-1.43.59L10.3 9.45l-7.72 7.72c-.78.78-.78 2.05 0 2.83L4 21.41c.39.39.9.59 1.41.59.51 0 1.02-.2 1.41-.59l7.78-7.78 2.81-2.81c.8-.78.8-2.07 0-2.86zM5.41 20L4 18.59l7.72-7.72 1.47 1.35L5.41 20z\"/>\n",
              "  </svg>\n",
              "      </button>\n",
              "      \n",
              "  <style>\n",
              "    .colab-df-container {\n",
              "      display:flex;\n",
              "      flex-wrap:wrap;\n",
              "      gap: 12px;\n",
              "    }\n",
              "\n",
              "    .colab-df-convert {\n",
              "      background-color: #E8F0FE;\n",
              "      border: none;\n",
              "      border-radius: 50%;\n",
              "      cursor: pointer;\n",
              "      display: none;\n",
              "      fill: #1967D2;\n",
              "      height: 32px;\n",
              "      padding: 0 0 0 0;\n",
              "      width: 32px;\n",
              "    }\n",
              "\n",
              "    .colab-df-convert:hover {\n",
              "      background-color: #E2EBFA;\n",
              "      box-shadow: 0px 1px 2px rgba(60, 64, 67, 0.3), 0px 1px 3px 1px rgba(60, 64, 67, 0.15);\n",
              "      fill: #174EA6;\n",
              "    }\n",
              "\n",
              "    [theme=dark] .colab-df-convert {\n",
              "      background-color: #3B4455;\n",
              "      fill: #D2E3FC;\n",
              "    }\n",
              "\n",
              "    [theme=dark] .colab-df-convert:hover {\n",
              "      background-color: #434B5C;\n",
              "      box-shadow: 0px 1px 3px 1px rgba(0, 0, 0, 0.15);\n",
              "      filter: drop-shadow(0px 1px 2px rgba(0, 0, 0, 0.3));\n",
              "      fill: #FFFFFF;\n",
              "    }\n",
              "  </style>\n",
              "\n",
              "      <script>\n",
              "        const buttonEl =\n",
              "          document.querySelector('#df-13c7159e-da69-4a4e-a168-96c4ad646e0a button.colab-df-convert');\n",
              "        buttonEl.style.display =\n",
              "          google.colab.kernel.accessAllowed ? 'block' : 'none';\n",
              "\n",
              "        async function convertToInteractive(key) {\n",
              "          const element = document.querySelector('#df-13c7159e-da69-4a4e-a168-96c4ad646e0a');\n",
              "          const dataTable =\n",
              "            await google.colab.kernel.invokeFunction('convertToInteractive',\n",
              "                                                     [key], {});\n",
              "          if (!dataTable) return;\n",
              "\n",
              "          const docLinkHtml = 'Like what you see? Visit the ' +\n",
              "            '<a target=\"_blank\" href=https://colab.research.google.com/notebooks/data_table.ipynb>data table notebook</a>'\n",
              "            + ' to learn more about interactive tables.';\n",
              "          element.innerHTML = '';\n",
              "          dataTable['output_type'] = 'display_data';\n",
              "          await google.colab.output.renderOutput(dataTable, element);\n",
              "          const docLink = document.createElement('div');\n",
              "          docLink.innerHTML = docLinkHtml;\n",
              "          element.appendChild(docLink);\n",
              "        }\n",
              "      </script>\n",
              "    </div>\n",
              "  </div>\n",
              "  "
            ]
          },
          "metadata": {},
          "execution_count": 39
        }
      ],
      "source": [
        "df.head()"
      ],
      "id": "c1d65b33"
    },
    {
      "cell_type": "code",
      "execution_count": 40,
      "metadata": {
        "colab": {
          "base_uri": "https://localhost:8080/",
          "height": 659
        },
        "id": "aea90310",
        "outputId": "73773ada-e32a-475b-9db3-9626edab2f68"
      },
      "outputs": [
        {
          "output_type": "execute_result",
          "data": {
            "text/plain": [
              "                                              review  emotion\n",
              "0  wesley g iphone hr tweeting rise austin dead n...        0\n",
              "1  jessedee know fludapp awesome ipad iphone app ...        2\n",
              "2                swonderlin wait ipad also sale sxsw        2\n",
              "3  sxsw hope year festival crashy year iphone app...        0\n",
              "4  sxtxstate great stuff fri sxsw marissa mayer g...        2"
            ],
            "text/html": [
              "\n",
              "  <div id=\"df-de129d1f-1a2a-4aed-9ca9-b8e995efb6aa\">\n",
              "    <div class=\"colab-df-container\">\n",
              "      <div>\n",
              "<style scoped>\n",
              "    .dataframe tbody tr th:only-of-type {\n",
              "        vertical-align: middle;\n",
              "    }\n",
              "\n",
              "    .dataframe tbody tr th {\n",
              "        vertical-align: top;\n",
              "    }\n",
              "\n",
              "    .dataframe thead th {\n",
              "        text-align: right;\n",
              "    }\n",
              "</style>\n",
              "<table border=\"1\" class=\"dataframe\">\n",
              "  <thead>\n",
              "    <tr style=\"text-align: right;\">\n",
              "      <th></th>\n",
              "      <th>review</th>\n",
              "      <th>emotion</th>\n",
              "    </tr>\n",
              "  </thead>\n",
              "  <tbody>\n",
              "    <tr>\n",
              "      <th>0</th>\n",
              "      <td>wesley g iphone hr tweeting rise austin dead n...</td>\n",
              "      <td>0</td>\n",
              "    </tr>\n",
              "    <tr>\n",
              "      <th>1</th>\n",
              "      <td>jessedee know fludapp awesome ipad iphone app ...</td>\n",
              "      <td>2</td>\n",
              "    </tr>\n",
              "    <tr>\n",
              "      <th>2</th>\n",
              "      <td>swonderlin wait ipad also sale sxsw</td>\n",
              "      <td>2</td>\n",
              "    </tr>\n",
              "    <tr>\n",
              "      <th>3</th>\n",
              "      <td>sxsw hope year festival crashy year iphone app...</td>\n",
              "      <td>0</td>\n",
              "    </tr>\n",
              "    <tr>\n",
              "      <th>4</th>\n",
              "      <td>sxtxstate great stuff fri sxsw marissa mayer g...</td>\n",
              "      <td>2</td>\n",
              "    </tr>\n",
              "  </tbody>\n",
              "</table>\n",
              "</div>\n",
              "      <button class=\"colab-df-convert\" onclick=\"convertToInteractive('df-de129d1f-1a2a-4aed-9ca9-b8e995efb6aa')\"\n",
              "              title=\"Convert this dataframe to an interactive table.\"\n",
              "              style=\"display:none;\">\n",
              "        \n",
              "  <svg xmlns=\"http://www.w3.org/2000/svg\" height=\"24px\"viewBox=\"0 0 24 24\"\n",
              "       width=\"24px\">\n",
              "    <path d=\"M0 0h24v24H0V0z\" fill=\"none\"/>\n",
              "    <path d=\"M18.56 5.44l.94 2.06.94-2.06 2.06-.94-2.06-.94-.94-2.06-.94 2.06-2.06.94zm-11 1L8.5 8.5l.94-2.06 2.06-.94-2.06-.94L8.5 2.5l-.94 2.06-2.06.94zm10 10l.94 2.06.94-2.06 2.06-.94-2.06-.94-.94-2.06-.94 2.06-2.06.94z\"/><path d=\"M17.41 7.96l-1.37-1.37c-.4-.4-.92-.59-1.43-.59-.52 0-1.04.2-1.43.59L10.3 9.45l-7.72 7.72c-.78.78-.78 2.05 0 2.83L4 21.41c.39.39.9.59 1.41.59.51 0 1.02-.2 1.41-.59l7.78-7.78 2.81-2.81c.8-.78.8-2.07 0-2.86zM5.41 20L4 18.59l7.72-7.72 1.47 1.35L5.41 20z\"/>\n",
              "  </svg>\n",
              "      </button>\n",
              "      \n",
              "  <style>\n",
              "    .colab-df-container {\n",
              "      display:flex;\n",
              "      flex-wrap:wrap;\n",
              "      gap: 12px;\n",
              "    }\n",
              "\n",
              "    .colab-df-convert {\n",
              "      background-color: #E8F0FE;\n",
              "      border: none;\n",
              "      border-radius: 50%;\n",
              "      cursor: pointer;\n",
              "      display: none;\n",
              "      fill: #1967D2;\n",
              "      height: 32px;\n",
              "      padding: 0 0 0 0;\n",
              "      width: 32px;\n",
              "    }\n",
              "\n",
              "    .colab-df-convert:hover {\n",
              "      background-color: #E2EBFA;\n",
              "      box-shadow: 0px 1px 2px rgba(60, 64, 67, 0.3), 0px 1px 3px 1px rgba(60, 64, 67, 0.15);\n",
              "      fill: #174EA6;\n",
              "    }\n",
              "\n",
              "    [theme=dark] .colab-df-convert {\n",
              "      background-color: #3B4455;\n",
              "      fill: #D2E3FC;\n",
              "    }\n",
              "\n",
              "    [theme=dark] .colab-df-convert:hover {\n",
              "      background-color: #434B5C;\n",
              "      box-shadow: 0px 1px 3px 1px rgba(0, 0, 0, 0.15);\n",
              "      filter: drop-shadow(0px 1px 2px rgba(0, 0, 0, 0.3));\n",
              "      fill: #FFFFFF;\n",
              "    }\n",
              "  </style>\n",
              "\n",
              "      <script>\n",
              "        const buttonEl =\n",
              "          document.querySelector('#df-de129d1f-1a2a-4aed-9ca9-b8e995efb6aa button.colab-df-convert');\n",
              "        buttonEl.style.display =\n",
              "          google.colab.kernel.accessAllowed ? 'block' : 'none';\n",
              "\n",
              "        async function convertToInteractive(key) {\n",
              "          const element = document.querySelector('#df-de129d1f-1a2a-4aed-9ca9-b8e995efb6aa');\n",
              "          const dataTable =\n",
              "            await google.colab.kernel.invokeFunction('convertToInteractive',\n",
              "                                                     [key], {});\n",
              "          if (!dataTable) return;\n",
              "\n",
              "          const docLinkHtml = 'Like what you see? Visit the ' +\n",
              "            '<a target=\"_blank\" href=https://colab.research.google.com/notebooks/data_table.ipynb>data table notebook</a>'\n",
              "            + ' to learn more about interactive tables.';\n",
              "          element.innerHTML = '';\n",
              "          dataTable['output_type'] = 'display_data';\n",
              "          await google.colab.output.renderOutput(dataTable, element);\n",
              "          const docLink = document.createElement('div');\n",
              "          docLink.innerHTML = docLinkHtml;\n",
              "          element.appendChild(docLink);\n",
              "        }\n",
              "      </script>\n",
              "    </div>\n",
              "  </div>\n",
              "  "
            ]
          },
          "metadata": {},
          "execution_count": 40
        }
      ],
      "source": [
        "# joining the list of words to form the review\n",
        "df['review']=df['review'].apply(lambda x:\" \".join(x))\n",
        "df.head()"
      ],
      "id": "aea90310"
    },
    {
      "cell_type": "markdown",
      "metadata": {
        "id": "26858bfa"
      },
      "source": [
        "### Bag of Words transformer"
      ],
      "id": "26858bfa"
    },
    {
      "cell_type": "code",
      "execution_count": 41,
      "metadata": {
        "id": "97ea93d6"
      },
      "outputs": [],
      "source": [
        "from sklearn.feature_extraction.text import CountVectorizer"
      ],
      "id": "97ea93d6"
    },
    {
      "cell_type": "code",
      "execution_count": 42,
      "metadata": {
        "id": "b22cad0b"
      },
      "outputs": [],
      "source": [
        "# fitting the bow transformer to the text column and transforming it\n",
        "bow_transformer=CountVectorizer().fit(df['review'])"
      ],
      "id": "b22cad0b"
    },
    {
      "cell_type": "code",
      "execution_count": 43,
      "metadata": {
        "colab": {
          "base_uri": "https://localhost:8080/"
        },
        "id": "246d18dd",
        "outputId": "e8678b9f-1367-4a19-aa8d-32505714f3fd"
      },
      "outputs": [
        {
          "output_type": "stream",
          "name": "stdout",
          "text": [
            "8363\n"
          ]
        }
      ],
      "source": [
        "# total number of different words present in the corpus\n",
        "print(len(bow_transformer.vocabulary_))"
      ],
      "id": "246d18dd"
    },
    {
      "cell_type": "code",
      "execution_count": 44,
      "metadata": {
        "colab": {
          "base_uri": "https://localhost:8080/",
          "height": 1000
        },
        "id": "7d5cab38",
        "outputId": "d89d33d3-53b2-4179-d269-f29221b3024a"
      },
      "outputs": [
        {
          "output_type": "execute_result",
          "data": {
            "text/plain": [
              "'wesley g iphone hr tweeting rise austin dead need upgrade plugin station sxsw'"
            ],
            "application/vnd.google.colaboratory.intrinsic+json": {
              "type": "string"
            }
          },
          "metadata": {},
          "execution_count": 44
        }
      ],
      "source": [
        "sample_text=df['review'][0]\n",
        "sample_text"
      ],
      "id": "7d5cab38"
    },
    {
      "cell_type": "code",
      "execution_count": 45,
      "metadata": {
        "colab": {
          "base_uri": "https://localhost:8080/"
        },
        "id": "0bd441bd",
        "outputId": "b572e90f-fe2e-45e8-c4c0-d1872e86230c"
      },
      "outputs": [
        {
          "output_type": "stream",
          "name": "stdout",
          "text": [
            "  (0, 467)\t1\n",
            "  (0, 1784)\t1\n",
            "  (0, 3489)\t1\n",
            "  (0, 3805)\t1\n",
            "  (0, 4869)\t1\n",
            "  (0, 5507)\t1\n",
            "  (0, 6194)\t1\n",
            "  (0, 6942)\t1\n",
            "  (0, 7163)\t1\n",
            "  (0, 7684)\t1\n",
            "  (0, 7820)\t1\n",
            "  (0, 8090)\t1\n"
          ]
        }
      ],
      "source": [
        "# vector representation of the sample_text\n",
        "bow_sample=bow_transformer.transform([sample_text])\n",
        "print(bow_sample)"
      ],
      "id": "0bd441bd"
    },
    {
      "cell_type": "code",
      "execution_count": 46,
      "metadata": {
        "id": "2cd9be8f"
      },
      "outputs": [],
      "source": [
        "# applying the bow transformer to the entire column\n",
        "text_bow=bow_transformer.transform(df['review'])"
      ],
      "id": "2cd9be8f"
    },
    {
      "cell_type": "code",
      "execution_count": 47,
      "metadata": {
        "colab": {
          "base_uri": "https://localhost:8080/"
        },
        "id": "97b1d54e",
        "outputId": "21ba612d-96df-46a2-8370-1dc289458f37"
      },
      "outputs": [
        {
          "output_type": "stream",
          "name": "stdout",
          "text": [
            "The shape of the matrix is:  (9092, 8363)\n"
          ]
        }
      ],
      "source": [
        "print(\"The shape of the matrix is: \",text_bow.shape)\n",
        "# 9092 different reviews and 8363 unique words in the entire corpus"
      ],
      "id": "97b1d54e"
    },
    {
      "cell_type": "code",
      "execution_count": 48,
      "metadata": {
        "colab": {
          "base_uri": "https://localhost:8080/"
        },
        "id": "6232124a",
        "outputId": "c13304b1-cb60-4848-fb66-1c4878486007"
      },
      "outputs": [
        {
          "output_type": "stream",
          "name": "stdout",
          "text": [
            "The number of non zero values in the matrix:  103180\n"
          ]
        }
      ],
      "source": [
        "print(\"The number of non zero values in the matrix: \",text_bow.nnz)"
      ],
      "id": "6232124a"
    },
    {
      "cell_type": "code",
      "execution_count": 49,
      "metadata": {
        "colab": {
          "base_uri": "https://localhost:8080/"
        },
        "id": "8b0f3dfa",
        "outputId": "f1c325b3-be28-4341-cf69-584a6bfbc327"
      },
      "outputs": [
        {
          "output_type": "stream",
          "name": "stdout",
          "text": [
            "Sparcity of the matrix:  0.13569817275400586\n"
          ]
        }
      ],
      "source": [
        "print(\"Sparcity of the matrix: \",100*text_bow.nnz/(text_bow.shape[0]*text_bow.shape[1]))"
      ],
      "id": "8b0f3dfa"
    },
    {
      "cell_type": "markdown",
      "metadata": {
        "id": "fcfdc251"
      },
      "source": [
        "The matrix is very sparse since most of the values would be zero"
      ],
      "id": "fcfdc251"
    },
    {
      "cell_type": "markdown",
      "metadata": {
        "id": "a7497bdb"
      },
      "source": [
        "### Term Frequency - Inverse Document Frequency (Tf-Idf) Transformer"
      ],
      "id": "a7497bdb"
    },
    {
      "cell_type": "code",
      "execution_count": 50,
      "metadata": {
        "id": "b1291b85"
      },
      "outputs": [],
      "source": [
        "from sklearn.feature_extraction.text import TfidfTransformer"
      ],
      "id": "b1291b85"
    },
    {
      "cell_type": "code",
      "execution_count": 51,
      "metadata": {
        "colab": {
          "base_uri": "https://localhost:8080/"
        },
        "id": "8e90a258",
        "outputId": "17e206a1-f637-4021-ac8b-942eb1da5336"
      },
      "outputs": [
        {
          "output_type": "stream",
          "name": "stdout",
          "text": [
            "  (0, 8090)\t0.40655838788261534\n",
            "  (0, 7820)\t0.3225935602043775\n",
            "  (0, 7684)\t0.2911705162256961\n",
            "  (0, 7163)\t0.04319211497984557\n",
            "  (0, 6942)\t0.3257912736828193\n",
            "  (0, 6194)\t0.3292450673535963\n",
            "  (0, 5507)\t0.36702100562355766\n",
            "  (0, 4869)\t0.20163028170095382\n",
            "  (0, 3805)\t0.11910344779769212\n",
            "  (0, 3489)\t0.35250243528765235\n",
            "  (0, 1784)\t0.3094165296034994\n",
            "  (0, 467)\t0.14111767938924372\n"
          ]
        }
      ],
      "source": [
        "tfidf_transformer=TfidfTransformer().fit(text_bow)\n",
        "tfidf_sample=tfidf_transformer.transform(bow_sample)\n",
        "print(tfidf_sample)"
      ],
      "id": "8e90a258"
    },
    {
      "cell_type": "code",
      "execution_count": 52,
      "metadata": {
        "colab": {
          "base_uri": "https://localhost:8080/"
        },
        "id": "2833ed55",
        "outputId": "deee07e1-48a5-4046-8afd-d9978405e741"
      },
      "outputs": [
        {
          "output_type": "stream",
          "name": "stdout",
          "text": [
            "(9092, 8363)\n"
          ]
        }
      ],
      "source": [
        "# applying the tfidf_transformer to the entire column\n",
        "text_tfidf=tfidf_transformer.transform(text_bow)\n",
        "print(text_tfidf.shape)"
      ],
      "id": "2833ed55"
    },
    {
      "cell_type": "markdown",
      "metadata": {
        "id": "cc1d5cf3"
      },
      "source": [
        "### Train Test Split"
      ],
      "id": "cc1d5cf3"
    },
    {
      "cell_type": "code",
      "execution_count": 53,
      "metadata": {
        "id": "ad1bd3b2"
      },
      "outputs": [],
      "source": [
        "X=df['review']\n",
        "y=df['emotion']"
      ],
      "id": "ad1bd3b2"
    },
    {
      "cell_type": "code",
      "execution_count": 54,
      "metadata": {
        "id": "51a95478"
      },
      "outputs": [],
      "source": [
        "from sklearn.model_selection import train_test_split"
      ],
      "id": "51a95478"
    },
    {
      "cell_type": "code",
      "execution_count": 55,
      "metadata": {
        "id": "29d03426"
      },
      "outputs": [],
      "source": [
        "# splitting the dataset into 75% train and 25% test\n",
        "X_train, X_test, y_train, y_test = train_test_split(X, y, test_size=0.25)"
      ],
      "id": "29d03426"
    },
    {
      "cell_type": "code",
      "execution_count": 56,
      "metadata": {
        "colab": {
          "base_uri": "https://localhost:8080/"
        },
        "id": "459ee21d",
        "outputId": "474d3a42-57b3-4ea1-bd72-83d9b3e34627"
      },
      "outputs": [
        {
          "output_type": "stream",
          "name": "stdout",
          "text": [
            "6819 2273 9092\n"
          ]
        }
      ],
      "source": [
        "print(len(X_train),len(X_test),len(X_train)+len(X_test))"
      ],
      "id": "459ee21d"
    },
    {
      "cell_type": "markdown",
      "metadata": {
        "id": "587f3dd1"
      },
      "source": [
        "  <h1><center>Model Creation and Evaluation</center></h1>"
      ],
      "id": "587f3dd1"
    },
    {
      "cell_type": "markdown",
      "metadata": {
        "id": "ba325227"
      },
      "source": [
        "The task of Bag-of-Words transformer followed by the Tf-Idf transformer and model creation can all be done in one single step using a pipeline provided by Scikit Learn"
      ],
      "id": "ba325227"
    },
    {
      "cell_type": "code",
      "execution_count": 57,
      "metadata": {
        "id": "fb466c3d"
      },
      "outputs": [],
      "source": [
        "from sklearn.pipeline import Pipeline"
      ],
      "id": "fb466c3d"
    },
    {
      "cell_type": "markdown",
      "metadata": {
        "id": "c5e97a4c"
      },
      "source": [
        "### Multinomial Naive Bayes"
      ],
      "id": "c5e97a4c"
    },
    {
      "cell_type": "code",
      "execution_count": 58,
      "metadata": {
        "id": "56d62070"
      },
      "outputs": [],
      "source": [
        "from sklearn.naive_bayes import MultinomialNB"
      ],
      "id": "56d62070"
    },
    {
      "cell_type": "code",
      "execution_count": 59,
      "metadata": {
        "id": "eefc8718"
      },
      "outputs": [],
      "source": [
        "pipe1=Pipeline([\n",
        "    ('bow',CountVectorizer()),    # strings to integer token counts\n",
        "    ('tfidf',TfidfTransformer()),  # tokens counts to TF-IDF weights\n",
        "    ('classifier',MultinomialNB())  # classification algorithm\n",
        "])"
      ],
      "id": "eefc8718"
    },
    {
      "cell_type": "code",
      "execution_count": 60,
      "metadata": {
        "colab": {
          "base_uri": "https://localhost:8080/"
        },
        "id": "9c6550e0",
        "outputId": "67eaba29-fb2d-4594-88a4-f2c9eab7560b"
      },
      "outputs": [
        {
          "output_type": "execute_result",
          "data": {
            "text/plain": [
              "Pipeline(steps=[('bow', CountVectorizer()), ('tfidf', TfidfTransformer()),\n",
              "                ('classifier', MultinomialNB())])"
            ]
          },
          "metadata": {},
          "execution_count": 60
        }
      ],
      "source": [
        "# fitting the pipeline\n",
        "pipe1.fit(X_train,y_train)"
      ],
      "id": "9c6550e0"
    },
    {
      "cell_type": "code",
      "execution_count": 61,
      "metadata": {
        "id": "d54fefb7"
      },
      "outputs": [],
      "source": [
        "# making predictions\n",
        "predictions_nb=pipe1.predict(X_test)"
      ],
      "id": "d54fefb7"
    },
    {
      "cell_type": "code",
      "execution_count": 62,
      "metadata": {
        "colab": {
          "base_uri": "https://localhost:8080/"
        },
        "id": "21fb57e9",
        "outputId": "bd338d83-bf0d-4c18-9f5d-b49ecbd40c3a"
      },
      "outputs": [
        {
          "output_type": "execute_result",
          "data": {
            "text/plain": [
              "array([1, 1, 1, ..., 2, 1, 1])"
            ]
          },
          "metadata": {},
          "execution_count": 62
        }
      ],
      "source": [
        "predictions_nb"
      ],
      "id": "21fb57e9"
    },
    {
      "cell_type": "code",
      "execution_count": 63,
      "metadata": {
        "id": "ea810ab4"
      },
      "outputs": [],
      "source": [
        "from sklearn.metrics import classification_report,confusion_matrix"
      ],
      "id": "ea810ab4"
    },
    {
      "cell_type": "code",
      "execution_count": 64,
      "metadata": {
        "id": "09a35df1"
      },
      "outputs": [],
      "source": [
        "def metrics(y_true,y_pred):\n",
        "    print(classification_report(y_true,y_pred))\n",
        "    print(\"\\n\")\n",
        "    print(confusion_matrix(y_true,y_pred))"
      ],
      "id": "09a35df1"
    },
    {
      "cell_type": "code",
      "execution_count": 65,
      "metadata": {
        "colab": {
          "base_uri": "https://localhost:8080/"
        },
        "id": "fc4f68e3",
        "outputId": "d327963d-7496-4e5b-e67c-eea433df0f9e"
      },
      "outputs": [
        {
          "output_type": "stream",
          "name": "stdout",
          "text": [
            "              precision    recall  f1-score   support\n",
            "\n",
            "           0       1.00      0.01      0.01       148\n",
            "           1       0.65      0.96      0.77      1382\n",
            "           2       0.69      0.21      0.32       743\n",
            "\n",
            "    accuracy                           0.65      2273\n",
            "   macro avg       0.78      0.39      0.37      2273\n",
            "weighted avg       0.68      0.65      0.57      2273\n",
            "\n",
            "\n",
            "\n",
            "[[   1  138    9]\n",
            " [   0 1321   61]\n",
            " [   0  589  154]]\n"
          ]
        }
      ],
      "source": [
        "metrics(y_test,predictions_nb)"
      ],
      "id": "fc4f68e3"
    },
    {
      "cell_type": "markdown",
      "metadata": {
        "id": "0dcc617f"
      },
      "source": [
        "### Logistic Regression"
      ],
      "id": "0dcc617f"
    },
    {
      "cell_type": "code",
      "execution_count": 66,
      "metadata": {
        "id": "41e4d67e"
      },
      "outputs": [],
      "source": [
        "from sklearn.linear_model import LogisticRegression"
      ],
      "id": "41e4d67e"
    },
    {
      "cell_type": "code",
      "execution_count": 67,
      "metadata": {
        "id": "19dd1e2f"
      },
      "outputs": [],
      "source": [
        "pipe2=Pipeline([\n",
        "    ('bow',CountVectorizer()),    # strings to integer token counts\n",
        "    ('tfidf',TfidfTransformer()),  # tokens counts to TF-IDF weights\n",
        "    ('classifier',LogisticRegression())  # classification algorithm\n",
        "])"
      ],
      "id": "19dd1e2f"
    },
    {
      "cell_type": "code",
      "execution_count": 68,
      "metadata": {
        "id": "174992a6",
        "colab": {
          "base_uri": "https://localhost:8080/"
        },
        "outputId": "88948428-f57f-4369-ed18-0a3209e6c87c"
      },
      "outputs": [
        {
          "output_type": "execute_result",
          "data": {
            "text/plain": [
              "Pipeline(steps=[('bow', CountVectorizer()), ('tfidf', TfidfTransformer()),\n",
              "                ('classifier', LogisticRegression())])"
            ]
          },
          "metadata": {},
          "execution_count": 68
        }
      ],
      "source": [
        "pipe2.fit(X_train,y_train)"
      ],
      "id": "174992a6"
    },
    {
      "cell_type": "code",
      "execution_count": 69,
      "metadata": {
        "id": "352f9ef7"
      },
      "outputs": [],
      "source": [
        "predictions_lg=pipe2.predict(X_test)"
      ],
      "id": "352f9ef7"
    },
    {
      "cell_type": "code",
      "execution_count": 70,
      "metadata": {
        "id": "125c04f2",
        "outputId": "f4b4f1c4-eba6-4dce-b2e5-a00c218d2e4d",
        "colab": {
          "base_uri": "https://localhost:8080/"
        }
      },
      "outputs": [
        {
          "output_type": "stream",
          "name": "stdout",
          "text": [
            "              precision    recall  f1-score   support\n",
            "\n",
            "           0       0.73      0.05      0.10       148\n",
            "           1       0.70      0.89      0.79      1382\n",
            "           2       0.66      0.46      0.54       743\n",
            "\n",
            "    accuracy                           0.69      2273\n",
            "   macro avg       0.70      0.47      0.48      2273\n",
            "weighted avg       0.69      0.69      0.66      2273\n",
            "\n",
            "\n",
            "\n",
            "[[   8  117   23]\n",
            " [   3 1228  151]\n",
            " [   0  401  342]]\n"
          ]
        }
      ],
      "source": [
        "metrics(y_test,predictions_lg)"
      ],
      "id": "125c04f2"
    },
    {
      "cell_type": "markdown",
      "metadata": {
        "id": "3edd70d9"
      },
      "source": [
        "### Random Forest Classifier"
      ],
      "id": "3edd70d9"
    },
    {
      "cell_type": "code",
      "execution_count": 71,
      "metadata": {
        "id": "453332f5"
      },
      "outputs": [],
      "source": [
        "from sklearn.ensemble import RandomForestClassifier"
      ],
      "id": "453332f5"
    },
    {
      "cell_type": "code",
      "execution_count": 72,
      "metadata": {
        "id": "b2a4109c"
      },
      "outputs": [],
      "source": [
        "pipe3=Pipeline([\n",
        "    ('bow',CountVectorizer()),    # strings to integer token counts\n",
        "    ('tfidf',TfidfTransformer()),  # tokens counts to TF-IDF weights\n",
        "    ('classifier',RandomForestClassifier(n_estimators=400))  # classification algorithm\n",
        "])"
      ],
      "id": "b2a4109c"
    },
    {
      "cell_type": "code",
      "execution_count": 73,
      "metadata": {
        "colab": {
          "base_uri": "https://localhost:8080/"
        },
        "id": "1fc17954",
        "outputId": "b7241eae-c9af-4ed8-a37f-44f4dac8cd06"
      },
      "outputs": [
        {
          "output_type": "execute_result",
          "data": {
            "text/plain": [
              "Pipeline(steps=[('bow', CountVectorizer()), ('tfidf', TfidfTransformer()),\n",
              "                ('classifier', RandomForestClassifier(n_estimators=400))])"
            ]
          },
          "metadata": {},
          "execution_count": 73
        }
      ],
      "source": [
        "pipe3.fit(X_train,y_train)"
      ],
      "id": "1fc17954"
    },
    {
      "cell_type": "code",
      "execution_count": 74,
      "metadata": {
        "id": "3696ea2e"
      },
      "outputs": [],
      "source": [
        "predictions_rf=pipe3.predict(X_test)"
      ],
      "id": "3696ea2e"
    },
    {
      "cell_type": "code",
      "execution_count": 75,
      "metadata": {
        "colab": {
          "base_uri": "https://localhost:8080/"
        },
        "id": "52a8f922",
        "outputId": "48444b88-cdc4-4dd6-f21e-8462f223e4f0"
      },
      "outputs": [
        {
          "output_type": "stream",
          "name": "stdout",
          "text": [
            "              precision    recall  f1-score   support\n",
            "\n",
            "           0       0.59      0.16      0.25       148\n",
            "           1       0.69      0.90      0.78      1382\n",
            "           2       0.70      0.40      0.51       743\n",
            "\n",
            "    accuracy                           0.69      2273\n",
            "   macro avg       0.66      0.49      0.52      2273\n",
            "weighted avg       0.69      0.69      0.66      2273\n",
            "\n",
            "\n",
            "\n",
            "[[  24  111   13]\n",
            " [  16 1250  116]\n",
            " [   1  445  297]]\n"
          ]
        }
      ],
      "source": [
        "metrics(y_test,predictions_rf)"
      ],
      "id": "52a8f922"
    },
    {
      "cell_type": "markdown",
      "metadata": {
        "id": "5eeb773f"
      },
      "source": [
        "### SVM"
      ],
      "id": "5eeb773f"
    },
    {
      "cell_type": "code",
      "execution_count": 76,
      "metadata": {
        "id": "277e36f1"
      },
      "outputs": [],
      "source": [
        "from sklearn.svm import SVC"
      ],
      "id": "277e36f1"
    },
    {
      "cell_type": "code",
      "execution_count": 77,
      "metadata": {
        "id": "27a3a834"
      },
      "outputs": [],
      "source": [
        "pipe4=Pipeline([\n",
        "    ('bow',CountVectorizer()),    # strings to integer token counts\n",
        "    ('tfidf',TfidfTransformer()),  # tokens counts to TF-IDF weights\n",
        "    ('classifier',SVC())  # classification algorithm\n",
        "])"
      ],
      "id": "27a3a834"
    },
    {
      "cell_type": "code",
      "execution_count": 78,
      "metadata": {
        "id": "2c5a5918",
        "outputId": "806dbcb2-39ff-4736-9922-0db8fb4dd2a8",
        "colab": {
          "base_uri": "https://localhost:8080/"
        }
      },
      "outputs": [
        {
          "output_type": "execute_result",
          "data": {
            "text/plain": [
              "Pipeline(steps=[('bow', CountVectorizer()), ('tfidf', TfidfTransformer()),\n",
              "                ('classifier', SVC())])"
            ]
          },
          "metadata": {},
          "execution_count": 78
        }
      ],
      "source": [
        "pipe4.fit(X_train,y_train)"
      ],
      "id": "2c5a5918"
    },
    {
      "cell_type": "code",
      "execution_count": 79,
      "metadata": {
        "id": "c7b76f99"
      },
      "outputs": [],
      "source": [
        "predictions_svc=pipe4.predict(X_test)"
      ],
      "id": "c7b76f99"
    },
    {
      "cell_type": "code",
      "execution_count": 80,
      "metadata": {
        "id": "25e0f5d0",
        "outputId": "3265f5f7-7a7f-47f7-9e18-385ee8f27c7e",
        "colab": {
          "base_uri": "https://localhost:8080/"
        }
      },
      "outputs": [
        {
          "output_type": "stream",
          "name": "stdout",
          "text": [
            "              precision    recall  f1-score   support\n",
            "\n",
            "           0       0.81      0.11      0.20       148\n",
            "           1       0.70      0.91      0.79      1382\n",
            "           2       0.71      0.45      0.55       743\n",
            "\n",
            "    accuracy                           0.71      2273\n",
            "   macro avg       0.74      0.49      0.51      2273\n",
            "weighted avg       0.71      0.71      0.68      2273\n",
            "\n",
            "\n",
            "\n",
            "[[  17  116   15]\n",
            " [   4 1257  121]\n",
            " [   0  411  332]]\n"
          ]
        }
      ],
      "source": [
        "metrics(y_test,predictions_svc)"
      ],
      "id": "25e0f5d0"
    },
    {
      "cell_type": "markdown",
      "metadata": {
        "id": "65650a76"
      },
      "source": [
        "**Hyper-Parameter Tuning**"
      ],
      "id": "65650a76"
    },
    {
      "cell_type": "code",
      "execution_count": 81,
      "metadata": {
        "id": "fc1f98e1"
      },
      "outputs": [],
      "source": [
        "from sklearn.model_selection import RandomizedSearchCV"
      ],
      "id": "fc1f98e1"
    },
    {
      "cell_type": "code",
      "execution_count": 82,
      "metadata": {
        "id": "7dfb68c2"
      },
      "outputs": [],
      "source": [
        "# For using RandomizedSearchCV we would need to specify the parameters and their corresponding values on which it would work\n",
        "# and find the best values\n",
        "\n",
        "C=[0.1,1,10,20,50,100]\n",
        "gamma=[0.0001,0.001,0.1,1,10]\n",
        "kernel=['rbf','linear','sigmoid']"
      ],
      "id": "7dfb68c2"
    },
    {
      "cell_type": "code",
      "execution_count": 83,
      "metadata": {
        "id": "04a88117"
      },
      "outputs": [],
      "source": [
        "random_grid = {'C': C,\n",
        "               'gamma': gamma,\n",
        "               'kernel': kernel}"
      ],
      "id": "04a88117"
    },
    {
      "cell_type": "code",
      "execution_count": 84,
      "metadata": {
        "id": "8d5f27f3"
      },
      "outputs": [],
      "source": [
        "model_svc_tuned=SVC()"
      ],
      "id": "8d5f27f3"
    },
    {
      "cell_type": "code",
      "execution_count": 85,
      "metadata": {
        "id": "439e6f3f"
      },
      "outputs": [],
      "source": [
        "SVC_tuned = RandomizedSearchCV(estimator = model_svc_tuned, \n",
        "                  \n",
        "                               param_distributions = random_grid, \n",
        "                               n_iter = 40, cv = 3, verbose=2, \n",
        "                               random_state=42,n_jobs=-1)"
      ],
      "id": "439e6f3f"
    },
    {
      "cell_type": "code",
      "execution_count": 86,
      "metadata": {
        "id": "7c43a071"
      },
      "outputs": [],
      "source": [
        "# we need to split the data based on the tfidf transformed matrix which earlier was done as part of the pipeline\n",
        "X_train_tuned, X_test_tuned, y_train_tuned, y_test_tuned = train_test_split(text_tfidf, df['emotion'], test_size=0.25)"
      ],
      "id": "7c43a071"
    },
    {
      "cell_type": "code",
      "execution_count": 88,
      "metadata": {
        "id": "49a16956",
        "outputId": "9a0b2c50-53ee-44d6-f5f7-d3b1fa08674a",
        "colab": {
          "base_uri": "https://localhost:8080/"
        }
      },
      "outputs": [
        {
          "output_type": "stream",
          "name": "stdout",
          "text": [
            "Fitting 3 folds for each of 40 candidates, totalling 120 fits\n"
          ]
        },
        {
          "output_type": "execute_result",
          "data": {
            "text/plain": [
              "RandomizedSearchCV(cv=3, estimator=SVC(), n_iter=40, n_jobs=-1,\n",
              "                   param_distributions={'C': [0.1, 1, 10, 20, 50, 100],\n",
              "                                        'gamma': [0.0001, 0.001, 0.1, 1, 10],\n",
              "                                        'kernel': ['rbf', 'linear', 'sigmoid']},\n",
              "                   random_state=42, verbose=2)"
            ]
          },
          "metadata": {},
          "execution_count": 88
        }
      ],
      "source": [
        "SVC_tuned.fit(X_train_tuned,y_train_tuned)"
      ],
      "id": "49a16956"
    },
    {
      "cell_type": "code",
      "execution_count": 89,
      "metadata": {
        "id": "b4007c8e",
        "outputId": "03fbd7e3-39aa-49bb-8c39-cbf5600879dd",
        "colab": {
          "base_uri": "https://localhost:8080/"
        }
      },
      "outputs": [
        {
          "output_type": "execute_result",
          "data": {
            "text/plain": [
              "{'C': 10, 'gamma': 1, 'kernel': 'rbf'}"
            ]
          },
          "metadata": {},
          "execution_count": 89
        }
      ],
      "source": [
        "SVC_tuned.best_params_"
      ],
      "id": "b4007c8e"
    },
    {
      "cell_type": "code",
      "execution_count": 90,
      "metadata": {
        "id": "9e6ddbb4"
      },
      "outputs": [],
      "source": [
        "predictions_svc_tuned=SVC_tuned.predict(X_test_tuned)"
      ],
      "id": "9e6ddbb4"
    },
    {
      "cell_type": "code",
      "execution_count": 91,
      "metadata": {
        "id": "335486dc",
        "outputId": "81aa26ca-188c-46af-eefd-2b183e002fb5",
        "colab": {
          "base_uri": "https://localhost:8080/"
        }
      },
      "outputs": [
        {
          "output_type": "stream",
          "name": "stdout",
          "text": [
            "              precision    recall  f1-score   support\n",
            "\n",
            "           0       0.57      0.19      0.29       135\n",
            "           1       0.71      0.83      0.77      1382\n",
            "           2       0.63      0.51      0.56       756\n",
            "\n",
            "    accuracy                           0.69      2273\n",
            "   macro avg       0.63      0.51      0.54      2273\n",
            "weighted avg       0.68      0.69      0.67      2273\n",
            "\n",
            "\n",
            "\n",
            "[[  26   94   15]\n",
            " [  16 1152  214]\n",
            " [   4  369  383]]\n"
          ]
        }
      ],
      "source": [
        "metrics(y_test_tuned,predictions_svc_tuned)"
      ],
      "id": "335486dc"
    },
    {
      "cell_type": "markdown",
      "metadata": {
        "id": "6e985e1d"
      },
      "source": [
        "### K Nearest Neighbors"
      ],
      "id": "6e985e1d"
    },
    {
      "cell_type": "code",
      "execution_count": 92,
      "metadata": {
        "id": "591da99f"
      },
      "outputs": [],
      "source": [
        "from sklearn.neighbors import KNeighborsClassifier"
      ],
      "id": "591da99f"
    },
    {
      "cell_type": "code",
      "execution_count": 93,
      "metadata": {
        "id": "2e27dff9"
      },
      "outputs": [],
      "source": [
        "pipe5=Pipeline([\n",
        "    ('bow',CountVectorizer()),    # strings to integer token counts\n",
        "    ('tfidf',TfidfTransformer()),  # tokens counts to TF-IDF weights\n",
        "    ('classifier',KNeighborsClassifier(n_neighbors=5))  # classification algorithm\n",
        "])"
      ],
      "id": "2e27dff9"
    },
    {
      "cell_type": "code",
      "execution_count": 94,
      "metadata": {
        "id": "15c0ed4b",
        "outputId": "41516e67-798f-4169-f90b-cea9a7b8d7b8",
        "colab": {
          "base_uri": "https://localhost:8080/"
        }
      },
      "outputs": [
        {
          "output_type": "execute_result",
          "data": {
            "text/plain": [
              "Pipeline(steps=[('bow', CountVectorizer()), ('tfidf', TfidfTransformer()),\n",
              "                ('classifier', KNeighborsClassifier())])"
            ]
          },
          "metadata": {},
          "execution_count": 94
        }
      ],
      "source": [
        "pipe5.fit(X_train,y_train)"
      ],
      "id": "15c0ed4b"
    },
    {
      "cell_type": "code",
      "execution_count": 95,
      "metadata": {
        "id": "cb8d7b39"
      },
      "outputs": [],
      "source": [
        "predictions_knn=pipe5.predict(X_test)"
      ],
      "id": "cb8d7b39"
    },
    {
      "cell_type": "code",
      "execution_count": 96,
      "metadata": {
        "id": "5eb9f05f",
        "outputId": "8782a045-6d28-4895-8ea5-22a6ae0e10bc",
        "colab": {
          "base_uri": "https://localhost:8080/"
        }
      },
      "outputs": [
        {
          "output_type": "stream",
          "name": "stdout",
          "text": [
            "              precision    recall  f1-score   support\n",
            "\n",
            "           0       0.43      0.16      0.23       148\n",
            "           1       0.66      0.85      0.74      1382\n",
            "           2       0.53      0.33      0.41       743\n",
            "\n",
            "    accuracy                           0.63      2273\n",
            "   macro avg       0.54      0.44      0.46      2273\n",
            "weighted avg       0.61      0.63      0.60      2273\n",
            "\n",
            "\n",
            "\n",
            "[[  23  101   24]\n",
            " [  20 1169  193]\n",
            " [  10  488  245]]\n"
          ]
        }
      ],
      "source": [
        "metrics(y_test,predictions_knn)"
      ],
      "id": "5eb9f05f"
    }
  ],
  "metadata": {
    "colab": {
      "name": "Final_Project.ipynb",
      "provenance": []
    },
    "kernelspec": {
      "display_name": "Python 3 (ipykernel)",
      "language": "python",
      "name": "python3"
    },
    "language_info": {
      "codemirror_mode": {
        "name": "ipython",
        "version": 3
      },
      "file_extension": ".py",
      "mimetype": "text/x-python",
      "name": "python",
      "nbconvert_exporter": "python",
      "pygments_lexer": "ipython3",
      "version": "3.9.7"
    }
  },
  "nbformat": 4,
  "nbformat_minor": 5
}